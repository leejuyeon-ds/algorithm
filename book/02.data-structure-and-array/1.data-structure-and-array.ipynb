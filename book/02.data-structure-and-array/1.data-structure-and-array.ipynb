{
 "cells": [
  {
   "cell_type": "markdown",
   "id": "b495dcaa",
   "metadata": {},
   "source": [
    "# 자료구조와 배열\n",
    "\n",
    "자료구조의 정의와 배열 개념 알아보기"
   ]
  },
  {
   "cell_type": "markdown",
   "id": "d4c785b2",
   "metadata": {},
   "source": [
    "## 배열 개념 알아보기"
   ]
  },
  {
   "cell_type": "markdown",
   "id": "324c8ffa",
   "metadata": {},
   "source": [
    "[Do it! 실습 2-1] 5명의 시험 점수 집계(합계, 평균) 프로그램 작성"
   ]
  },
  {
   "cell_type": "code",
   "execution_count": 2,
   "id": "36f7ccc9",
   "metadata": {
    "ExecuteTime": {
     "end_time": "2022-12-03T07:41:43.446024Z",
     "start_time": "2022-12-03T07:41:34.391605Z"
    }
   },
   "outputs": [
    {
     "name": "stdout",
     "output_type": "stream",
     "text": [
      "학생 그룹 점수의 합계와 평균을 구합니다.\n",
      "1번 학생의 점수를 입력하세요.: 32\n",
      "2번 학생의 점수를 입력하세요.: 68\n",
      "3번 학생의 점수를 입력하세요.: 72\n",
      "4번 학생의 점수를 입력하세요.: 54\n",
      "5번 학생의 점수를 입력하세요.: 92\n",
      "합계는 318점입니다.\n",
      "평균은 63.6점입니다.\n"
     ]
    }
   ],
   "source": [
    "print('학생 그룹 점수의 합계와 평균을 구합니다.')\n",
    "\n",
    "score1 = int(input('1번 학생의 점수를 입력하세요.: '))\n",
    "score2 = int(input('2번 학생의 점수를 입력하세요.: '))\n",
    "score3 = int(input('3번 학생의 점수를 입력하세요.: '))\n",
    "score4 = int(input('4번 학생의 점수를 입력하세요.: '))\n",
    "score5 = int(input('5번 학생의 점수를 입력하세요.: '))\n",
    "\n",
    "total = 0\n",
    "total += score1\n",
    "total += score2\n",
    "total += score3\n",
    "total += score4\n",
    "total += score5\n",
    "\n",
    "print(f'합계는 {total}점입니다.')\n",
    "print(f'평균은 {total/5}점입니다.')"
   ]
  },
  {
   "cell_type": "markdown",
   "id": "554fd924",
   "metadata": {},
   "source": [
    "동일한 코드가 학생 수 만큼 반복되는 것을 알 수 있음. 다음의 요구 사항이 생긴다면 어떻게 수정할 수 있을까?\n",
    "\n",
    "요구 사항\n",
    "\n",
    "1. 학생 수를 변경하는 경우: 학생 수를 사용자로부터 입력 받아 합계와 평균을 구해야 함\n",
    "2. 특정 학생의 시험 점수를 확인하거나 변경하는 경우: 3번 또는 4번 학생의 점수를 확인하거나 변경\n",
    "3. 최저점과 최고점을 구하거나 정렬이 필요한 경우: 평균, 합계 외의 대표값을 확인하거나, 정렬이 가능해야 함.\n",
    "\n",
    "당연하겠지만, 위와 같이 하나의 값을 하나의 변수에 저장하는 것이 아니라, 묶음 단위로 값을 저장하는 **배열**(array)라는 자료 구조를 활용해야 함. 배열에는 객체가 저장되며, 배열에 저장된 각 개체를 **원소**(element)라고 부름. 각 원소는 0, 1, 2, ... 순으로 인덱스를 부여 받음.\n",
    "\n",
    "배열을 활용하면 위 3가지 요구 사항을 간단히 해결할 수 있음. 배열의 원소 개수는 자유롭게 지정 가능하므로 요구 사항 1 해결 가능. 인덱스를 통하여 특정 원소에 접근 가능하고 묶음 단위로 저장되기에 요구 사항 2, 3번도 쉽게 해결 가능.\n",
    "\n",
    "더불어 파이썬의 경우 원소의 자료형이 int, float형 등 어떤 것도 상관 없고, 서로 다른 자료형도 같이 저장 가능하며, 배열 내에 배열을 배치할 수도 있음."
   ]
  },
  {
   "cell_type": "markdown",
   "id": "4fe25f0b",
   "metadata": {},
   "source": [
    "## 리스트와 튜플 알아보기\n",
    "\n",
    "리스트와 튜플은 평소 정말 많이 다루는 객체이자 개념이므로, 이미 알고 있는 내용은 간단히 요약하고 잊고 있던(잘 몰랐던) 내용들을 확인해보는 것으로 함.\n",
    "\n",
    "파이썬에서는 배열을 리스트(list)와 튜플(tuple)로 구현할 수 있으며, 이들은 데이터 컨테이너(data container)라고 함. 둘은 원소를 변경할 수 있는지 없는지에 따라 차이가 있음"
   ]
  },
  {
   "cell_type": "markdown",
   "id": "9ca62146",
   "metadata": {},
   "source": [
    "### 리스트\n",
    "\n",
    "리스트는 원소를 변경할 수 있는 **뮤터블**(mutable) 객체. 연산자 []안에 원소를 쉼표(,)로 구분하여 표기하여 생성 가능하며 원소 없이 []를 사용하면 빈 리스트가 생성됨"
   ]
  },
  {
   "cell_type": "code",
   "execution_count": 4,
   "id": "71df30b1",
   "metadata": {
    "ExecuteTime": {
     "end_time": "2022-12-03T08:10:28.361388Z",
     "start_time": "2022-12-03T08:10:28.358105Z"
    }
   },
   "outputs": [],
   "source": [
    "list01 = []\n",
    "list02 = [1, 2, 3]\n",
    "list03 = ['A', 'B', 'C', ] # 맨 마지막 원소에 쉼표를 써도 됨!"
   ]
  },
  {
   "cell_type": "markdown",
   "id": "8d968bc5",
   "metadata": {},
   "source": [
    "또 파이썬 내장 함수인 list()를 사용하여도 만들 수 있음. 다양한 자료형 객체를 원소로 하는 리스트도 생성 가능"
   ]
  },
  {
   "cell_type": "code",
   "execution_count": 10,
   "id": "a0e41319",
   "metadata": {
    "ExecuteTime": {
     "end_time": "2022-12-03T08:14:22.378250Z",
     "start_time": "2022-12-03T08:14:22.374485Z"
    }
   },
   "outputs": [],
   "source": [
    "list04 = list()\n",
    "list05 = list('ABC')\n",
    "list06 = list([1,2,3])\n",
    "list07 = list((1,2,3))\n",
    "list08 = list({1,2,3})\n",
    "list08_1 = list({1:'x',2:'2',3:'3'}) # 놀랍게도 사전으로부터도 만들어지며, 다만 key를 원소로 가지는 듯"
   ]
  },
  {
   "cell_type": "markdown",
   "id": "c93801cd",
   "metadata": {},
   "source": [
    "특정 범위의 정수로 구성된 리스트를 생성하고 싶으면, list()와 range() 두 빌트인 함수를 조합하여 생성할 수 있음"
   ]
  },
  {
   "cell_type": "code",
   "execution_count": 15,
   "id": "731f4745",
   "metadata": {
    "ExecuteTime": {
     "end_time": "2022-12-03T08:16:22.685809Z",
     "start_time": "2022-12-03T08:16:22.681672Z"
    }
   },
   "outputs": [
    {
     "name": "stdout",
     "output_type": "stream",
     "text": [
      "[0, 1, 2, 3, 4, 5, 6]\n",
      "[3, 4, 5, 6, 7]\n",
      "[3, 5, 7, 9, 11]\n"
     ]
    }
   ],
   "source": [
    "list09 = list(range(7))\n",
    "list10 = list(range(3, 8))\n",
    "list11 = list(range(3, 13, 2)) # 3부터 2씩 건너뛰어 생성\n",
    "\n",
    "print(list09)\n",
    "print(list10)\n",
    "print(list11)"
   ]
  },
  {
   "cell_type": "markdown",
   "id": "54a6b5da",
   "metadata": {},
   "source": [
    "리스트의 원소 개수는 리스트를 만들기 전에 반드시 결정해야 함. 하지만 None을 사용하면 원솟값을 정하지 않는 리스트를 만들 수 있음"
   ]
  },
  {
   "cell_type": "code",
   "execution_count": 19,
   "id": "cfc3d045",
   "metadata": {
    "ExecuteTime": {
     "end_time": "2022-12-03T08:19:34.279372Z",
     "start_time": "2022-12-03T08:19:34.274946Z"
    }
   },
   "outputs": [
    {
     "data": {
      "text/plain": [
       "[None, None, None, None, None]"
      ]
     },
     "execution_count": 19,
     "metadata": {},
     "output_type": "execute_result"
    }
   ],
   "source": [
    "list12 = [None] * 5\n",
    "\n",
    "list12"
   ]
  },
  {
   "cell_type": "markdown",
   "id": "5ad6a421",
   "metadata": {
    "ExecuteTime": {
     "end_time": "2022-12-03T08:19:41.241123Z",
     "start_time": "2022-12-03T08:19:41.238526Z"
    }
   },
   "source": [
    "### 튜플\n",
    "\n",
    "튜플은 원소에 순서를 매겨 결합한 것으로 원소를 변경할 수 없는 이뮤터블(imutable) 자료형임. 튜플은 원소를 쉼표로 구분하여 나열하고 결합 연산자 ()로 둘러싸는 방식으로 생성. ()만 생성해도 빈 튜플이 만들어지며, 결합 연산자를 생략해도 됨"
   ]
  },
  {
   "cell_type": "code",
   "execution_count": 21,
   "id": "86165999",
   "metadata": {
    "ExecuteTime": {
     "end_time": "2022-12-03T08:21:33.371461Z",
     "start_time": "2022-12-03T08:21:33.367798Z"
    }
   },
   "outputs": [
    {
     "name": "stdout",
     "output_type": "stream",
     "text": [
      "()\n",
      "(1,)\n",
      "(1,)\n"
     ]
    }
   ],
   "source": [
    "tuple01 = ()\n",
    "tuple02 = 1,\n",
    "tuple03 = (1,)\n",
    "\n",
    "print(tuple01)\n",
    "print(tuple02)\n",
    "print(tuple03)"
   ]
  },
  {
   "cell_type": "code",
   "execution_count": 22,
   "id": "b7632301",
   "metadata": {
    "ExecuteTime": {
     "end_time": "2022-12-03T08:22:41.487602Z",
     "start_time": "2022-12-03T08:22:41.483356Z"
    }
   },
   "outputs": [
    {
     "name": "stdout",
     "output_type": "stream",
     "text": [
      "(1, 2, 3)\n",
      "(1, 2, 3)\n",
      "(1, 2, 3)\n",
      "(1, 2, 3)\n",
      "('A', 'B', 'C')\n"
     ]
    }
   ],
   "source": [
    "tuple04 = 1,2,3\n",
    "tuple05 = 1,2,3,\n",
    "tuple06 = (1,2,3)\n",
    "tuple07 = (1,2,3,)\n",
    "tuple08 = 'A', 'B', 'C',\n",
    "\n",
    "print(tuple04)\n",
    "print(tuple05)\n",
    "print(tuple06)\n",
    "print(tuple07)\n",
    "print(tuple08)"
   ]
  },
  {
   "cell_type": "markdown",
   "id": "02130621",
   "metadata": {},
   "source": [
    "다만 () 안에 값이 하나만 있는 경우, 단일 값을 갖는 변수로 인식하므로 꼭 쉼표를 붙여주어야 함"
   ]
  },
  {
   "cell_type": "code",
   "execution_count": 23,
   "id": "815800ba",
   "metadata": {
    "ExecuteTime": {
     "end_time": "2022-12-03T08:24:08.488714Z",
     "start_time": "2022-12-03T08:24:08.484932Z"
    }
   },
   "outputs": [
    {
     "name": "stdout",
     "output_type": "stream",
     "text": [
      "1\n",
      "(1,)\n",
      "1\n",
      "(1,)\n"
     ]
    }
   ],
   "source": [
    "v01 = 1\n",
    "v01_1 = 1,\n",
    "v02 = (1)\n",
    "v02_1 = (1,)\n",
    "\n",
    "print(v01)\n",
    "print(v01_1)\n",
    "print(v02)\n",
    "print(v02_1)"
   ]
  },
  {
   "cell_type": "markdown",
   "id": "adfedf5d",
   "metadata": {},
   "source": [
    "튜플도 마찬가지로 tuple() 내장 함수를 통해 생성 및 변환 가능함"
   ]
  },
  {
   "cell_type": "code",
   "execution_count": 24,
   "id": "8d6009bd",
   "metadata": {
    "ExecuteTime": {
     "end_time": "2022-12-03T08:26:15.520862Z",
     "start_time": "2022-12-03T08:26:15.517445Z"
    }
   },
   "outputs": [],
   "source": [
    "tuple09 = tuple()\n",
    "tuple10 = tuple('ABC')\n",
    "tuple11 = tuple([1,2,3])\n",
    "tuple12 = tuple({'A', 'B', 'C'})"
   ]
  },
  {
   "cell_type": "markdown",
   "id": "bcdb2085",
   "metadata": {},
   "source": [
    "튜플 또한 range() 함수가 생성하는 수열(이터러블 객체)을 tuple() 함수로 변환하여 만들 수 있음"
   ]
  },
  {
   "cell_type": "code",
   "execution_count": 25,
   "id": "0bc67a40",
   "metadata": {
    "ExecuteTime": {
     "end_time": "2022-12-03T08:27:11.897312Z",
     "start_time": "2022-12-03T08:27:11.894411Z"
    }
   },
   "outputs": [],
   "source": [
    "tuple13 = tuple(range(7))\n",
    "tuple14 = tuple(range(3, 8))\n",
    "tuple15 = tuple(range(3, 13, 2))"
   ]
  },
  {
   "cell_type": "markdown",
   "id": "278cdafb",
   "metadata": {},
   "source": [
    "## 리스트와 튜플 풀어내기\n",
    "\n",
    "좌변에 여러 개의 변수를 두고, 우변에 리스트나 튜플을 놓으면 우변의 원소를 좌변에 한번에 대입할 수 있음. 이렇게 배열의 원솟값을 풀어 여러 변수에 대입하는 것을 **언팩**(unpack)이라고 함."
   ]
  },
  {
   "cell_type": "code",
   "execution_count": 28,
   "id": "1583742f",
   "metadata": {
    "ExecuteTime": {
     "end_time": "2022-12-03T08:30:04.390572Z",
     "start_time": "2022-12-03T08:30:04.386507Z"
    }
   },
   "outputs": [
    {
     "name": "stdout",
     "output_type": "stream",
     "text": [
      "a:  1\n",
      "b:  2\n",
      "c:  3\n"
     ]
    }
   ],
   "source": [
    "x = [1,2,3]\n",
    "a, b, c = x\n",
    "print(\"a: \", a)\n",
    "print(\"b: \", b)\n",
    "print(\"c: \", c)"
   ]
  },
  {
   "cell_type": "markdown",
   "id": "f2fe60e7",
   "metadata": {},
   "source": [
    "## 인덱스로 원소에 접근하기"
   ]
  },
  {
   "cell_type": "code",
   "execution_count": 31,
   "id": "a67d50a3",
   "metadata": {
    "ExecuteTime": {
     "end_time": "2022-12-03T08:31:22.723875Z",
     "start_time": "2022-12-03T08:31:22.720456Z"
    }
   },
   "outputs": [
    {
     "name": "stdout",
     "output_type": "stream",
     "text": [
      "33\n",
      "55\n"
     ]
    }
   ],
   "source": [
    "x = [11, 22, 33, 44, 55, 66, 77]\n",
    "\n",
    "print(x[2])\n",
    "print(x[-3])"
   ]
  },
  {
   "cell_type": "code",
   "execution_count": 32,
   "id": "a31f0380",
   "metadata": {
    "ExecuteTime": {
     "end_time": "2022-12-03T08:31:26.635404Z",
     "start_time": "2022-12-03T08:31:26.632373Z"
    }
   },
   "outputs": [
    {
     "name": "stdout",
     "output_type": "stream",
     "text": [
      "[11, 22, 33, 3.14, 55, 66, 77]\n"
     ]
    }
   ],
   "source": [
    "x[-4] = 3.14\n",
    "print(x)"
   ]
  },
  {
   "cell_type": "code",
   "execution_count": 33,
   "id": "f763d507",
   "metadata": {
    "ExecuteTime": {
     "end_time": "2022-12-03T08:31:33.314577Z",
     "start_time": "2022-12-03T08:31:33.299999Z"
    }
   },
   "outputs": [
    {
     "ename": "IndexError",
     "evalue": "list index out of range",
     "output_type": "error",
     "traceback": [
      "\u001b[0;31m---------------------------------------------------------------------------\u001b[0m",
      "\u001b[0;31mIndexError\u001b[0m                                Traceback (most recent call last)",
      "Input \u001b[0;32mIn [33]\u001b[0m, in \u001b[0;36m<cell line: 1>\u001b[0;34m()\u001b[0m\n\u001b[0;32m----> 1\u001b[0m \u001b[43mx\u001b[49m\u001b[43m[\u001b[49m\u001b[38;5;241;43m7\u001b[39;49m\u001b[43m]\u001b[49m\n",
      "\u001b[0;31mIndexError\u001b[0m: list index out of range"
     ]
    }
   ],
   "source": [
    "x[7] # 없는 인덱스라 오류 출력"
   ]
  },
  {
   "cell_type": "code",
   "execution_count": 34,
   "id": "30613346",
   "metadata": {
    "ExecuteTime": {
     "end_time": "2022-12-03T08:31:57.970139Z",
     "start_time": "2022-12-03T08:31:57.955262Z"
    }
   },
   "outputs": [
    {
     "ename": "IndexError",
     "evalue": "list assignment index out of range",
     "output_type": "error",
     "traceback": [
      "\u001b[0;31m---------------------------------------------------------------------------\u001b[0m",
      "\u001b[0;31mIndexError\u001b[0m                                Traceback (most recent call last)",
      "Input \u001b[0;32mIn [34]\u001b[0m, in \u001b[0;36m<cell line: 1>\u001b[0;34m()\u001b[0m\n\u001b[0;32m----> 1\u001b[0m x[\u001b[38;5;241m7\u001b[39m] \u001b[38;5;241m=\u001b[39m \u001b[38;5;241m3.14\u001b[39m\n",
      "\u001b[0;31mIndexError\u001b[0m: list assignment index out of range"
     ]
    }
   ],
   "source": [
    "x[7] = 3.14 # 없는 인덱스에 값을 대입할 수 없으므로 오류 출력"
   ]
  },
  {
   "cell_type": "markdown",
   "id": "0f7e3ea7",
   "metadata": {
    "ExecuteTime": {
     "end_time": "2022-12-03T08:33:02.697105Z",
     "start_time": "2022-12-03T08:33:02.684281Z"
    }
   },
   "source": [
    "## 슬라이스식으로 원소에 접근하기\n",
    "\n",
    "리스트 또는 튜플의 원소 일부를 연속해서 또는 일정한 간격으로 꺼내 새로운 리스트나 튜플을 만드는 것을 **슬라이스**(slice)라고 함."
   ]
  },
  {
   "cell_type": "markdown",
   "id": "478b2a1c",
   "metadata": {},
   "source": [
    "### 슬라이스식으로 원소 꺼내기\n",
    "\n",
    " * `s[i:j]`: `s[i]`부터 `s[j-1]`까지 나열\n",
    " * `s[i:j:k]`: `s[i]`부터 `s[j-1]`까지 `k`씩 건너뛰며 나열"
   ]
  },
  {
   "cell_type": "code",
   "execution_count": 37,
   "id": "bdaeafdc",
   "metadata": {
    "ExecuteTime": {
     "end_time": "2022-12-03T08:38:04.944313Z",
     "start_time": "2022-12-03T08:38:04.938666Z"
    }
   },
   "outputs": [
    {
     "name": "stdout",
     "output_type": "stream",
     "text": [
      "[11, 22, 33, 44, 55, 66]\n",
      "[11, 22, 33, 44, 55, 66, 77]\n",
      "[11, 33, 55, 77]\n"
     ]
    }
   ],
   "source": [
    "s = [11, 22, 33, 44, 55, 66, 77]\n",
    "\n",
    "print(s[0:6])\n",
    "print(s[0:7])\n",
    "print(s[0:7:2])"
   ]
  },
  {
   "cell_type": "code",
   "execution_count": 38,
   "id": "6d25390e",
   "metadata": {
    "ExecuteTime": {
     "end_time": "2022-12-03T08:38:31.426288Z",
     "start_time": "2022-12-03T08:38:31.422616Z"
    }
   },
   "outputs": [
    {
     "name": "stdout",
     "output_type": "stream",
     "text": [
      "[44, 55]\n"
     ]
    }
   ],
   "source": [
    "print(s[-4:-2])"
   ]
  },
  {
   "cell_type": "code",
   "execution_count": 40,
   "id": "2e59542f",
   "metadata": {
    "ExecuteTime": {
     "end_time": "2022-12-03T08:38:56.920086Z",
     "start_time": "2022-12-03T08:38:56.916793Z"
    }
   },
   "outputs": [
    {
     "name": "stdout",
     "output_type": "stream",
     "text": [
      "[]\n"
     ]
    }
   ],
   "source": [
    "print(s[3:1])"
   ]
  },
  {
   "cell_type": "markdown",
   "id": "93441a38",
   "metadata": {},
   "source": [
    "위와 같이 i > j 더라도 오류가 발생하지 않고, 빈 리스트를 반환함"
   ]
  },
  {
   "cell_type": "markdown",
   "id": "23229712",
   "metadata": {},
   "source": [
    "i, j, k 지정 규칙\n",
    "\n",
    " * i, j가 len(s)보다 크면 len(s)가 지정된 것으로 간주하여 오류가 발생하지 않음\n",
    " * i가 없거나 None이면 0이 지정된 것으로 간주\n",
    " * j가 없거나 None이면 len(s)이 지정된 것으로 간주"
   ]
  },
  {
   "cell_type": "code",
   "execution_count": 42,
   "id": "87cf5436",
   "metadata": {
    "ExecuteTime": {
     "end_time": "2022-12-03T08:41:28.155273Z",
     "start_time": "2022-12-03T08:41:28.151245Z"
    }
   },
   "outputs": [
    {
     "name": "stdout",
     "output_type": "stream",
     "text": [
      "[11, 22, 33, 44, 55, 66]\n",
      "[11, 22, 33, 44, 55, 66, 77]\n",
      "7\n"
     ]
    }
   ],
   "source": [
    "print(s[:6])\n",
    "print(s[:10])\n",
    "print(len(s))"
   ]
  },
  {
   "cell_type": "code",
   "execution_count": 45,
   "id": "5f6d49e3",
   "metadata": {
    "ExecuteTime": {
     "end_time": "2022-12-03T08:42:30.804482Z",
     "start_time": "2022-12-03T08:42:30.801026Z"
    }
   },
   "outputs": [
    {
     "name": "stdout",
     "output_type": "stream",
     "text": [
      "[44, 55, 66, 77]\n",
      "[11, 22, 33, 44, 55, 66]\n",
      "[55, 66, 77]\n"
     ]
    }
   ],
   "source": [
    "print(s[3:])\n",
    "print(s[None:6])\n",
    "print(s[-3:9])"
   ]
  },
  {
   "cell_type": "code",
   "execution_count": 46,
   "id": "230f2b77",
   "metadata": {
    "ExecuteTime": {
     "end_time": "2022-12-03T08:42:50.408617Z",
     "start_time": "2022-12-03T08:42:50.404648Z"
    }
   },
   "outputs": [
    {
     "name": "stdout",
     "output_type": "stream",
     "text": [
      "[11, 33, 55, 77]\n",
      "[11, 22, 33, 44, 55, 66, 77]\n",
      "[77, 66, 55, 44, 33, 22, 11]\n"
     ]
    }
   ],
   "source": [
    "print(s[::2])\n",
    "print(s[::1])\n",
    "print(s[::-1])"
   ]
  },
  {
   "cell_type": "markdown",
   "id": "99a192b7",
   "metadata": {},
   "source": [
    "## ! 뮤터블과 이뮤터블의 대입"
   ]
  },
  {
   "cell_type": "code",
   "execution_count": 47,
   "id": "eb4a2332",
   "metadata": {
    "ExecuteTime": {
     "end_time": "2022-12-03T08:43:59.924586Z",
     "start_time": "2022-12-03T08:43:59.921400Z"
    }
   },
   "outputs": [
    {
     "name": "stdout",
     "output_type": "stream",
     "text": [
      "140543812364720\n"
     ]
    }
   ],
   "source": [
    "n = 5\n",
    "print(id(n))"
   ]
  },
  {
   "cell_type": "code",
   "execution_count": 48,
   "id": "0f61abc6",
   "metadata": {
    "ExecuteTime": {
     "end_time": "2022-12-03T08:44:09.500153Z",
     "start_time": "2022-12-03T08:44:09.497234Z"
    }
   },
   "outputs": [
    {
     "name": "stdout",
     "output_type": "stream",
     "text": [
      "140543543955120\n"
     ]
    }
   ],
   "source": [
    "n = 'ABC'\n",
    "print(id(n))"
   ]
  },
  {
   "cell_type": "code",
   "execution_count": 49,
   "id": "11cda03f",
   "metadata": {
    "ExecuteTime": {
     "end_time": "2022-12-03T08:45:02.854815Z",
     "start_time": "2022-12-03T08:45:02.850804Z"
    }
   },
   "outputs": [
    {
     "name": "stdout",
     "output_type": "stream",
     "text": [
      "140542612167488\n",
      "140543812364592\n",
      "140543812364624\n",
      "140543812364656\n"
     ]
    }
   ],
   "source": [
    "mylist = [1,2,3]\n",
    "print(id(mylist))\n",
    "print(id(mylist[0]))\n",
    "print(id(mylist[1]))\n",
    "print(id(mylist[2]))"
   ]
  },
  {
   "cell_type": "code",
   "execution_count": 50,
   "id": "f922c58c",
   "metadata": {
    "ExecuteTime": {
     "end_time": "2022-12-03T08:45:20.300804Z",
     "start_time": "2022-12-03T08:45:20.297471Z"
    }
   },
   "outputs": [
    {
     "name": "stdout",
     "output_type": "stream",
     "text": [
      "140543812364592\n",
      "140543812364624\n",
      "140543812364656\n"
     ]
    }
   ],
   "source": [
    "a, b, c = mylist\n",
    "print(id(a))\n",
    "print(id(b))\n",
    "print(id(c))"
   ]
  },
  {
   "cell_type": "markdown",
   "id": "6b6dae7a",
   "metadata": {},
   "source": [
    "리스트의 원소를 언팩하여 변수에 대입하는 경우 같은 식별번호를 가지는 객체를 참조하게 됨"
   ]
  },
  {
   "cell_type": "code",
   "execution_count": 51,
   "id": "70fe54e4",
   "metadata": {
    "ExecuteTime": {
     "end_time": "2022-12-03T08:46:42.267309Z",
     "start_time": "2022-12-03T08:46:42.263748Z"
    }
   },
   "outputs": [
    {
     "name": "stdout",
     "output_type": "stream",
     "text": [
      "6 2\n",
      "140543812364752 140543812364624\n"
     ]
    }
   ],
   "source": [
    "x = 6\n",
    "y = 2\n",
    "print(x, y)\n",
    "print(id(x), id(y))"
   ]
  },
  {
   "cell_type": "code",
   "execution_count": 52,
   "id": "c7fd5758",
   "metadata": {
    "ExecuteTime": {
     "end_time": "2022-12-03T08:46:43.809197Z",
     "start_time": "2022-12-03T08:46:43.805704Z"
    }
   },
   "outputs": [
    {
     "name": "stdout",
     "output_type": "stream",
     "text": [
      "4 9\n",
      "140543812364688 140543812364848\n"
     ]
    }
   ],
   "source": [
    "x, y = y+2, x+3\n",
    "print(x, y)\n",
    "print(id(x), id(y))"
   ]
  },
  {
   "cell_type": "markdown",
   "id": "0eff08f0",
   "metadata": {},
   "source": [
    "int의 경우에도 값이 수정되는 것이 아니라, 다른 식별번호의 객체를 참조함. 즉 이뮤터블 객체임\n",
    "\n",
    "파이썬의 자료형은 두 가지로 분류 가능\n",
    " * **뮤터블 자료형**: 리스트, 딕셔너리, 집합 등이 있으며 값을 변경할 수 있음\n",
    " * **이뮤터블 자료형**: 수, 문자형, 튜플 등이 있으며 값을 변경할 수 없음"
   ]
  },
  {
   "cell_type": "markdown",
   "id": "510accdd",
   "metadata": {},
   "source": [
    "## 자료구조의 개념\n",
    "\n",
    "**자료구조**(data structure): 데이터 단위와 데이터 자체 사이의 물리적 또는 논리적인 관계\n",
    "\n",
    "논리적인 관계로 이루어진 데이터 구성을 말함. 즉, 데이터가 모여 있는 구조이며, 컴퓨터에서 처리해야 하는 많은 데이터를 모아 효율적으로 관리하고 구조화할 수 있게 함. 파이썬의 자료형인 리스트와 튜플은 자료구조에 포함시켜 배열이라고 할 수 있음"
   ]
  },
  {
   "cell_type": "markdown",
   "id": "9e3a4c39",
   "metadata": {},
   "source": [
    "## 추가 개념"
   ]
  },
  {
   "cell_type": "markdown",
   "id": "dc44bd2c",
   "metadata": {},
   "source": [
    "len() 함수로 배열의 원소 수 구하기"
   ]
  },
  {
   "cell_type": "code",
   "execution_count": 54,
   "id": "9968b2ec",
   "metadata": {
    "ExecuteTime": {
     "end_time": "2022-12-03T08:53:01.095175Z",
     "start_time": "2022-12-03T08:53:01.090640Z"
    }
   },
   "outputs": [
    {
     "data": {
      "text/plain": [
       "6"
      ]
     },
     "execution_count": 54,
     "metadata": {},
     "output_type": "execute_result"
    }
   ],
   "source": [
    "x = [15, 64, 7, 3.14, [32, 55], 'ABC']\n",
    "len(x)"
   ]
  },
  {
   "cell_type": "markdown",
   "id": "8253be31",
   "metadata": {},
   "source": [
    "빈 배열 판단하기"
   ]
  },
  {
   "cell_type": "code",
   "execution_count": 55,
   "id": "8861f8ed",
   "metadata": {
    "ExecuteTime": {
     "end_time": "2022-12-03T08:53:44.893162Z",
     "start_time": "2022-12-03T08:53:44.889667Z"
    }
   },
   "outputs": [
    {
     "name": "stdout",
     "output_type": "stream",
     "text": [
      "빈 리스트가 아닙니다.\n"
     ]
    }
   ],
   "source": [
    "if x:\n",
    "    print('빈 리스트가 아닙니다.')\n",
    "else:\n",
    "    print('빈 리스트입니다.')"
   ]
  },
  {
   "cell_type": "markdown",
   "id": "48be0117",
   "metadata": {},
   "source": [
    "비교 연산자로 배열의 대소 또는 등가 관계 판단하기"
   ]
  },
  {
   "cell_type": "code",
   "execution_count": 57,
   "id": "35757c6b",
   "metadata": {
    "ExecuteTime": {
     "end_time": "2022-12-03T08:55:03.608255Z",
     "start_time": "2022-12-03T08:55:03.603450Z"
    }
   },
   "outputs": [
    {
     "name": "stdout",
     "output_type": "stream",
     "text": [
      "True\n",
      "True\n",
      "True\n",
      "True\n",
      "True\n"
     ]
    }
   ],
   "source": [
    "print([1,2,3] == [1,2,3])\n",
    "print([1,2,3] < [1,2,4])\n",
    "print([1,2,3,4] == [1,2,3,4])\n",
    "print([1,2,3] < [1,2,3,5])\n",
    "print([1,2,3] < [1,2,3,5] < [1,2,3,5,6])"
   ]
  },
  {
   "cell_type": "markdown",
   "id": "04103265",
   "metadata": {},
   "source": [
    "**등가성**(equality)과 **동일성**(identity)은 다름. 등가성 비교에는 ==을 동일성 비교는 is를 사용해야 하며, 전자는 값이 같은지를 후자는 식별번호까지 같은지를 확인함"
   ]
  },
  {
   "cell_type": "code",
   "execution_count": 60,
   "id": "7449f30b",
   "metadata": {
    "ExecuteTime": {
     "end_time": "2022-12-03T08:57:15.860012Z",
     "start_time": "2022-12-03T08:57:15.857254Z"
    }
   },
   "outputs": [
    {
     "name": "stdout",
     "output_type": "stream",
     "text": [
      "True\n",
      "False\n"
     ]
    }
   ],
   "source": [
    "x = [1, 2, 3]\n",
    "y = [1, 2, 3]\n",
    "\n",
    "print(x == y)\n",
    "print(x is y)"
   ]
  },
  {
   "cell_type": "code",
   "execution_count": 61,
   "id": "3111c304",
   "metadata": {
    "ExecuteTime": {
     "end_time": "2022-12-03T08:57:57.929881Z",
     "start_time": "2022-12-03T08:57:57.925884Z"
    }
   },
   "outputs": [
    {
     "name": "stdout",
     "output_type": "stream",
     "text": [
      "True\n",
      "True\n",
      "True\n",
      "True\n",
      "True\n",
      "True\n"
     ]
    }
   ],
   "source": [
    "a, b, c = x\n",
    "\n",
    "print(x[0] == a)\n",
    "print(x[1] == b)\n",
    "print(x[2] == c)\n",
    "print(x[0] is a)\n",
    "print(x[1] is b)\n",
    "print(x[2] is c)"
   ]
  },
  {
   "cell_type": "markdown",
   "id": "5cedc57f",
   "metadata": {},
   "source": [
    "내포 표기 생성\n",
    "\n",
    "보통은 list comprehension이라 표현하는데 이는 리스트 내에 for, if 문을 사용하여 새로운 리스트를 생성하는 기법임."
   ]
  },
  {
   "cell_type": "code",
   "execution_count": 62,
   "id": "84d31b22",
   "metadata": {
    "ExecuteTime": {
     "end_time": "2022-12-03T09:00:12.640046Z",
     "start_time": "2022-12-03T09:00:12.635047Z"
    }
   },
   "outputs": [
    {
     "data": {
      "text/plain": [
       "[2, 6, 10]"
      ]
     },
     "execution_count": 62,
     "metadata": {},
     "output_type": "execute_result"
    }
   ],
   "source": [
    "numbers = [1,2,3,4,5]\n",
    "twise = [num * 2 for num in numbers if num % 2 == 1] # 홀수에 2를 곱한 리스트\n",
    "twise"
   ]
  },
  {
   "cell_type": "markdown",
   "id": "2869731c",
   "metadata": {},
   "source": [
    "# 마치며...\n",
    "\n",
    "약 3년전쯤 파이썬을 처음 배웠고, 그 이후 가끔씩 파이썬 기초 강의를 접할 때가 있었는데, 그 때의 기억이 새록새록 나는 챕터였다. 평소 쓰던 것들만 쓰게 되는데 빌트인 함수와 객체에 대한 개념을 정리 및 재정의하는 시간이 되어 나쁘지 않았다!"
   ]
  }
 ],
 "metadata": {
  "kernelspec": {
   "display_name": "tsa-py3.9",
   "language": "python",
   "name": "tsa"
  },
  "language_info": {
   "codemirror_mode": {
    "name": "ipython",
    "version": 3
   },
   "file_extension": ".py",
   "mimetype": "text/x-python",
   "name": "python",
   "nbconvert_exporter": "python",
   "pygments_lexer": "ipython3",
   "version": "3.9.0"
  }
 },
 "nbformat": 4,
 "nbformat_minor": 5
}
