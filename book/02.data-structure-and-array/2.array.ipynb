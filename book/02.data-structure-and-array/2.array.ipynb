{
 "cells": [
  {
   "cell_type": "markdown",
   "id": "0a24d8d9",
   "metadata": {},
   "source": [
    "# 배열이란?\n",
    "\n",
    "배열을 사용하는 기본 알고리즘 알아보기. 코테 연습 문제 중 Lv. 0에 해당하는 알고리즘이 주로 포함된 듯"
   ]
  },
  {
   "cell_type": "markdown",
   "id": "61149f5a",
   "metadata": {},
   "source": [
    "## 배열 원소의 최댓값 구하기"
   ]
  },
  {
   "cell_type": "code",
   "execution_count": 2,
   "id": "888ae9fa",
   "metadata": {
    "ExecuteTime": {
     "end_time": "2022-12-03T12:44:39.843328Z",
     "start_time": "2022-12-03T12:44:39.840077Z"
    }
   },
   "outputs": [],
   "source": [
    "def max_of(a):\n",
    "    maximum = a[0]\n",
    "    for i in range(1, len(a)):\n",
    "        if a[i] > maximum:\n",
    "            maximum = a[i]\n",
    "    return maximum"
   ]
  },
  {
   "cell_type": "markdown",
   "id": "73611adc",
   "metadata": {},
   "source": [
    "위와 같이 배열 원소를 하나씩 차례로 주목하여 살펴보는 방식을 알고리즘 용어로 **스캔**(scan) 또는 트래버스(traverse)라고 함."
   ]
  },
  {
   "cell_type": "markdown",
   "id": "897636b4",
   "metadata": {},
   "source": [
    "## 배열 원소의 최댓값을 구하는 함수 및 프로그램 구현하기"
   ]
  },
  {
   "cell_type": "markdown",
   "id": "a69a90c6",
   "metadata": {},
   "source": [
    "[Do it! 실습 2-2]: 시퀀스 원소의 최댓값 출력하기\n",
    "\n",
    "함수는 다음과 같이 정의할 수 있으며, 이는 임포트를 위해 작업 디렉토리에 복사될 예정"
   ]
  },
  {
   "cell_type": "code",
   "execution_count": 4,
   "id": "3bf0d04c",
   "metadata": {
    "ExecuteTime": {
     "end_time": "2022-12-03T12:47:49.706574Z",
     "start_time": "2022-12-03T12:47:37.792403Z"
    }
   },
   "outputs": [
    {
     "name": "stdout",
     "output_type": "stream",
     "text": [
      "배열의 최댓값을 구합니다.\n",
      "원소 수를 입력하세요.: 5\n",
      "x[0]값을 입력하세요.: 172\n",
      "x[1]값을 입력하세요.: 153\n",
      "x[2]값을 입력하세요.: 192\n",
      "x[3]값을 입력하세요.: 140\n",
      "x[4]값을 입력하세요.: 165\n",
      "최댓값은 192입니다.\n"
     ]
    }
   ],
   "source": [
    "from typing import Any, Sequence\n",
    "\n",
    "def max_of(a: Sequence) -> Any:\n",
    "    \"\"\"시퀀스형 a 원소의 최댓값을 반환\"\"\" # 이를 함수 어노테이션이라 함\n",
    "    maximum = a[0]\n",
    "    for i in range(1, len(a)):\n",
    "        if a[i] > maximum:\n",
    "            maximum = a[i]\n",
    "    return maximum\n",
    "\n",
    "if __name__ == '__main__':\n",
    "    print('배열의 최댓값을 구합니다.')\n",
    "    \n",
    "    # step 1: 배열의 원소 수 입력받기\n",
    "    num = int(input('원소 수를 입력하세요.: '))\n",
    "    x = [None] * num # 원소 수가 num인 리스트 생성\n",
    "    \n",
    "    # step 2: 배열의 값 입력받기\n",
    "    for i in range(num):\n",
    "        x[i] = int(input(f'x[{i}]값을 입력하세요.: '))\n",
    "        \n",
    "    # step 3: 최댓값 구하기 및 반환하기\n",
    "    print(f'최댓값은 {max_of(x)}입니다.')"
   ]
  },
  {
   "cell_type": "markdown",
   "id": "f85ca1fd",
   "metadata": {},
   "source": [
    "Any의 경우 제약이 없는 임의의 자료형을 의미하며, Sequence의 경우 시퀀스형(sequence type)을 의미함. 시퀀스형에는 list, bytearray, string, tuple, bytes형이 있음\n",
    "\n",
    "위에 따라 `max_of()`함수는 다음과 같이 정의할 수 있음\n",
    " * 건네받는 매개변수 a의 자료형은 Sequence임\n",
    " * 반환하는 것은 임의의 자료형임\n",
    " \n",
    " `max_of()`의 특성\n",
    " \n",
    " * 함수 안에서는 배열 a의 원솟값을 변경하지 않음\n",
    " * 호출하는 쪽이 넘겨주는 자료형은 시퀀스형이면 어떤 것이든 상관없음\n",
    " * 인수의 원소를 비교 연산자 >로 값을 비교할 수 있으면 다른 형과 섞여 있어도 됨\n",
    " * 최댓값의 원소가 int이면 int형을 반환, float이면 float형 값을 반환함"
   ]
  },
  {
   "cell_type": "markdown",
   "id": "131e57a3",
   "metadata": {},
   "source": [
    "## 재사용할 수 있는 모듈 작성하기\n",
    "\n",
    "파이썬에서는 하나의 스크립트 프로그램을 **모듈**(module)이라고 함. 확장자를 뺀 파일 이름 자체가 모듈 이름임. 위 프로그램을 max.py로 만들어 저장하자. 위에서 `__name__` 이 `'__main__'`과 같은지 판단하는데, 여기서 피연산자 `__name__`은 모듈 이름을 나타내는 변수이고 작성 규칙은 다음과 같음\n",
    "\n",
    "* 스크립트 프로그램이 직접 실행될 때 `__name__`은 `'__main__'`임\n",
    "* 스르립트 프로그램이 임포트될 때 변수 `__name__`은 원래의 모듈 이름임\n",
    "\n",
    "파이썬에서는 모듈 또한 객체임. 모듈을 프로그램이 처음 임포트되는 시점에 모듈 객체가 생성되면서 초기화되는 구조임."
   ]
  },
  {
   "cell_type": "markdown",
   "id": "d19e1207",
   "metadata": {},
   "source": [
    "## 모듈 테스트하기\n",
    "\n",
    "우선 위에서 작성한 파일을 외부에 모듈로 작성하자\n",
    "\n",
    "### 입력받을 때 원소 수를 결정하기\n",
    "\n",
    "[Do it! 실습 2-3] 배열 원소의 최댓값을 구해서 출력하기(원솟값을 입력받음)"
   ]
  },
  {
   "cell_type": "code",
   "execution_count": 5,
   "id": "f1ea42ff",
   "metadata": {
    "ExecuteTime": {
     "end_time": "2022-12-03T13:00:39.444426Z",
     "start_time": "2022-12-03T13:00:23.245125Z"
    }
   },
   "outputs": [
    {
     "name": "stdout",
     "output_type": "stream",
     "text": [
      "배열의 최댓값을 구합니다.\n",
      "주의: \"End\"를 입력하면 종료합니다.\n",
      "x[0]값을 입력하세요.: 15\n",
      "x[1]값을 입력하세요.: 72\n",
      "x[2]값을 입력하세요.: 64\n",
      "x[3]값을 입력하세요.: 7\n",
      "x[4]값을 입력하세요.: End\n",
      "4개를 입력했습니다.\n",
      "최댓값은 72입니다.\n"
     ]
    }
   ],
   "source": [
    "from max import max_of\n",
    "\n",
    "print('배열의 최댓값을 구합니다.')\n",
    "print('주의: \"End\"를 입력하면 종료합니다.')\n",
    "\n",
    "number = 0\n",
    "x = []\n",
    "\n",
    "while True:\n",
    "    s = input(f'x[{number}]값을 입력하세요.: ')\n",
    "    if s == 'End':\n",
    "        break\n",
    "    x.append(int(s))\n",
    "    number += 1\n",
    "    \n",
    "print(f'{number}개를 입력했습니다.')\n",
    "print(f'최댓값은 {max_of(x)}입니다.')"
   ]
  },
  {
   "cell_type": "markdown",
   "id": "f32d6811",
   "metadata": {},
   "source": [
    "위에서 숫자가 아닌 원소가 입력되면 분명 에러가 날 것이며, float형의 데이터는 int 부분만 추려져서 데이터가 변형됨"
   ]
  },
  {
   "cell_type": "markdown",
   "id": "15382bd0",
   "metadata": {},
   "source": [
    "### 배열의 원솟값을 난수로 결정하기\n",
    "\n",
    "[Do it! 실습 2-4] 배열 원소의 최댓값을 구해서 출력하기(원솟값을 난수로 생성)"
   ]
  },
  {
   "cell_type": "code",
   "execution_count": 6,
   "id": "e7b4250e",
   "metadata": {
    "ExecuteTime": {
     "end_time": "2022-12-03T13:04:44.103730Z",
     "start_time": "2022-12-03T13:04:39.493266Z"
    }
   },
   "outputs": [
    {
     "name": "stdout",
     "output_type": "stream",
     "text": [
      "난수의 최댓값을 구합니다.\n",
      "난수의 개수를 입력하세요.: 5\n",
      "난수의 최솟값을 입력하세요.: 10\n",
      "난수의 최댓값을 입력하세요.: 99\n",
      "[99, 90, 18, 92, 56]\n",
      "이 가운데 최댓값은 99입니다.\n"
     ]
    }
   ],
   "source": [
    "import random\n",
    "from max import max_of\n",
    "\n",
    "print('난수의 최댓값을 구합니다.')\n",
    "num = int(input('난수의 개수를 입력하세요.: '))\n",
    "lo = int(input('난수의 최솟값을 입력하세요.: '))\n",
    "hi = int(input('난수의 최댓값을 입력하세요.: '))\n",
    "x = [None] * num # 원소 수가 num인 리스트를 생성\n",
    "\n",
    "for i in range(num):\n",
    "    x[i] = random.randint(lo, hi) #lo 이상 hi 이하인 정수 난수를 반환\n",
    "    \n",
    "print(f'{(x)}')\n",
    "print(f'이 가운데 최댓값은 {max_of(x)}입니다.')"
   ]
  },
  {
   "cell_type": "markdown",
   "id": "77aee51a",
   "metadata": {},
   "source": [
    "### 튜플, 문자열, 문자열 리스트의 최댓값 구하기\n",
    "\n",
    "[Do it! 실습 2-4] 배열 원소의 최댓값을 구해서 출력하기(튜플, 문자열, 문자열 리스트)"
   ]
  },
  {
   "cell_type": "code",
   "execution_count": 7,
   "id": "86b8bd50",
   "metadata": {
    "ExecuteTime": {
     "end_time": "2022-12-03T13:06:57.903410Z",
     "start_time": "2022-12-03T13:06:57.898729Z"
    }
   },
   "outputs": [
    {
     "name": "stdout",
     "output_type": "stream",
     "text": [
      "(4, 7, 5.6, 2, 3.14, 1)의 최댓값은 7입니다.\n",
      "string의 최댓값은 t입니다.\n",
      "['DTS', 'AAC', 'FLAC']의 최댓값은 FLAC입니다.\n"
     ]
    }
   ],
   "source": [
    "from max import max_of\n",
    "\n",
    "t = (4, 7, 5.6, 2, 3.14, 1)\n",
    "s = 'string'\n",
    "a = ['DTS', 'AAC', 'FLAC']\n",
    "\n",
    "print(f'{t}의 최댓값은 {max_of(t)}입니다.')\n",
    "print(f'{s}의 최댓값은 {max_of(s)}입니다.')\n",
    "print(f'{a}의 최댓값은 {max_of(a)}입니다.')"
   ]
  },
  {
   "cell_type": "code",
   "execution_count": 9,
   "id": "c5aa1ae0",
   "metadata": {
    "ExecuteTime": {
     "end_time": "2022-12-03T13:07:37.449012Z",
     "start_time": "2022-12-03T13:07:37.445460Z"
    }
   },
   "outputs": [
    {
     "name": "stdout",
     "output_type": "stream",
     "text": [
      "['DTS', 'AAC', 'FLA']의 최댓값은 FLA입니다.\n",
      "['DTS', 'AACDDDDD', 'FLA']의 최댓값은 FLA입니다.\n"
     ]
    }
   ],
   "source": [
    "b = ['DTS', 'AAC', 'FLA']\n",
    "c = ['DTS', 'AACDDDDD', 'FLA']\n",
    "\n",
    "print(f'{b}의 최댓값은 {max_of(b)}입니다.')\n",
    "print(f'{c}의 최댓값은 {max_of(c)}입니다.')"
   ]
  },
  {
   "cell_type": "markdown",
   "id": "eb5aa7f2",
   "metadata": {},
   "source": [
    "문자열 비교의 경우, 문자열의 첫 문자의 문자 코드가 크면 큰 것으로 간주함."
   ]
  },
  {
   "cell_type": "markdown",
   "id": "fe0247f6",
   "metadata": {
    "ExecuteTime": {
     "end_time": "2022-12-03T14:25:04.242354Z",
     "start_time": "2022-12-03T14:25:04.239720Z"
    }
   },
   "source": [
    "## 보충수업: 리스트와 튜플 2"
   ]
  },
  {
   "cell_type": "markdown",
   "id": "22b426bb",
   "metadata": {},
   "source": [
    "### 동일성(indentity) 판단하기"
   ]
  },
  {
   "cell_type": "code",
   "execution_count": 11,
   "id": "c45436f5",
   "metadata": {
    "ExecuteTime": {
     "end_time": "2022-12-03T14:26:09.581119Z",
     "start_time": "2022-12-03T14:26:09.570859Z"
    }
   },
   "outputs": [
    {
     "data": {
      "text/plain": [
       "False"
      ]
     },
     "execution_count": 11,
     "metadata": {},
     "output_type": "execute_result"
    }
   ],
   "source": [
    "lst1 = [1,2,3,4,5]\n",
    "lst2 = [1,2,3,4,5]\n",
    "\n",
    "lst1 is lst2"
   ]
  },
  {
   "cell_type": "markdown",
   "id": "a438f264",
   "metadata": {},
   "source": [
    "둘은 값은 같지만, 식별번호는 다름. 다른 객체를 참조하고 있기 때문. 단 그 객체의 값은 같음"
   ]
  },
  {
   "cell_type": "markdown",
   "id": "e1d895cc",
   "metadata": {},
   "source": [
    "### 리스트, 튜플의 대입"
   ]
  },
  {
   "cell_type": "code",
   "execution_count": 12,
   "id": "691cf3ab",
   "metadata": {
    "ExecuteTime": {
     "end_time": "2022-12-03T14:27:18.584856Z",
     "start_time": "2022-12-03T14:27:18.580458Z"
    }
   },
   "outputs": [
    {
     "data": {
      "text/plain": [
       "True"
      ]
     },
     "execution_count": 12,
     "metadata": {},
     "output_type": "execute_result"
    }
   ],
   "source": [
    "list1 = [1,2,3,4,5]\n",
    "lst2 = lst1\n",
    "lst1 is lst2"
   ]
  },
  {
   "cell_type": "code",
   "execution_count": 13,
   "id": "f3bb84e8",
   "metadata": {
    "ExecuteTime": {
     "end_time": "2022-12-03T14:27:30.188361Z",
     "start_time": "2022-12-03T14:27:30.184091Z"
    }
   },
   "outputs": [
    {
     "data": {
      "text/plain": [
       "([1, 2, 9, 4, 5], [1, 2, 9, 4, 5])"
      ]
     },
     "execution_count": 13,
     "metadata": {},
     "output_type": "execute_result"
    }
   ],
   "source": [
    "lst1[2] = 9\n",
    "lst1, lst2"
   ]
  },
  {
   "cell_type": "markdown",
   "id": "e93cd955",
   "metadata": {},
   "source": [
    "위처럼 따로 생성한 것이 아닌, lst1을 lst2에 대입하면 같은 식별번호의 객체를 참조하게 되어, 한 쪽에서 값을 변경하면 다른 객체에서도 동일하게 변경 사항이 적용된 것으로 보임. 둘 다 적용된 것이 아니라 실제로는 lst1이라는 변수를 통해 객체의 값을 변경한 것이고 lst1, lst2가 동일 객체를 참조하여 같은 값이 출력되는 것을 알 수 있음."
   ]
  },
  {
   "cell_type": "markdown",
   "id": "3b040a87",
   "metadata": {},
   "source": [
    "### 리스트 스캔\n",
    "\n",
    "튜플의 스캔도 아래와 동일함\n",
    "\n",
    "프로그램 4종류\n",
    "\n",
    " * 실습 2C-1: 원소 수를 len() 함수로 미리 알아내서, 0에서 원소 수 - 1까지 반복\n",
    " * 실습 2C-2: 인덱스와 원소를 짝지어 enumerate() 함수로 반복해서 꺼냄\n",
    " * 실습 2C-3: 실습 2C-2와 같지만 카운트를 1부터 시작\n",
    " * 실습 2C-4: 인덱스를 사용하지 않고 in을 사용해 원소를 순서대로 꺼냄"
   ]
  },
  {
   "cell_type": "code",
   "execution_count": 14,
   "id": "fcae77ec",
   "metadata": {
    "ExecuteTime": {
     "end_time": "2022-12-03T14:32:01.526731Z",
     "start_time": "2022-12-03T14:32:01.523925Z"
    }
   },
   "outputs": [],
   "source": [
    "x = ['John', 'George', 'Paul', 'Ringo']"
   ]
  },
  {
   "cell_type": "markdown",
   "id": "c0f31f14",
   "metadata": {},
   "source": [
    "[Do it! 실습 2C-1] 원소 수를 len() 함수로 미리 알아내서, 0에서 원소 수 - 1까지 반복"
   ]
  },
  {
   "cell_type": "code",
   "execution_count": 15,
   "id": "dc4cd358",
   "metadata": {
    "ExecuteTime": {
     "end_time": "2022-12-03T14:32:45.810767Z",
     "start_time": "2022-12-03T14:32:45.806840Z"
    },
    "scrolled": true
   },
   "outputs": [
    {
     "name": "stdout",
     "output_type": "stream",
     "text": [
      "x[0] = John\n",
      "x[1] = George\n",
      "x[2] = Paul\n",
      "x[3] = Ringo\n"
     ]
    }
   ],
   "source": [
    "for i in range(len(x)):\n",
    "    print(f'x[{i}] = {x[i]}')"
   ]
  },
  {
   "cell_type": "markdown",
   "id": "a965f728",
   "metadata": {},
   "source": [
    "[Do it! 실습 2C-2] 인덱스와 원소를 짝지어 enumerate() 함수로 반복해서 꺼냄"
   ]
  },
  {
   "cell_type": "code",
   "execution_count": 16,
   "id": "d3546b5b",
   "metadata": {
    "ExecuteTime": {
     "end_time": "2022-12-03T14:38:16.471119Z",
     "start_time": "2022-12-03T14:38:16.468040Z"
    },
    "scrolled": true
   },
   "outputs": [
    {
     "name": "stdout",
     "output_type": "stream",
     "text": [
      "x[0] = John\n",
      "x[1] = George\n",
      "x[2] = Paul\n",
      "x[3] = Ringo\n"
     ]
    }
   ],
   "source": [
    "for i, name in enumerate(x):\n",
    "    print(f'x[{i}] = {name}')"
   ]
  },
  {
   "cell_type": "markdown",
   "id": "d56a9cf3",
   "metadata": {},
   "source": [
    "[Do it! 실습 2C-3] 실습 2C-2와 같지만 카운트를 1부터 시작"
   ]
  },
  {
   "cell_type": "code",
   "execution_count": 18,
   "id": "d5bbdef2",
   "metadata": {
    "ExecuteTime": {
     "end_time": "2022-12-03T14:38:16.471119Z",
     "start_time": "2022-12-03T14:38:16.468040Z"
    },
    "scrolled": true
   },
   "outputs": [
    {
     "name": "stdout",
     "output_type": "stream",
     "text": [
      "1번째 = John\n",
      "2번째 = George\n",
      "3번째 = Paul\n",
      "4번째 = Ringo\n"
     ]
    }
   ],
   "source": [
    "for i, name in enumerate(x, 1):\n",
    "    print(f'{i}번째 = {name}')"
   ]
  },
  {
   "cell_type": "markdown",
   "id": "470efe2e",
   "metadata": {},
   "source": [
    "[Do it! 실습 2C-4] 인덱스를 사용하지 않고 in을 사용해 원소를 순서대로 꺼냄"
   ]
  },
  {
   "cell_type": "code",
   "execution_count": 20,
   "id": "eb5873fb",
   "metadata": {
    "ExecuteTime": {
     "end_time": "2022-12-03T14:38:16.471119Z",
     "start_time": "2022-12-03T14:38:16.468040Z"
    },
    "scrolled": true
   },
   "outputs": [
    {
     "name": "stdout",
     "output_type": "stream",
     "text": [
      "John\n",
      "George\n",
      "Paul\n",
      "Ringo\n"
     ]
    }
   ],
   "source": [
    "for name in x:\n",
    "    print(name)"
   ]
  },
  {
   "cell_type": "markdown",
   "id": "ab4ae819",
   "metadata": {},
   "source": [
    "** 이터러블\n",
    "\n",
    "문자열, 리스트, 튜플, 집합, 딕셔너리 등의 자료형 객체는 모두 이터러블(iterable, 반복 가능)하다는 공통점이 있음. 이는 원소를 하나씩 꺼내는 구조이며, 이터러블 객체를 내장 함수인 iter()의 인수로 전달하면, 그 객체에 대한 이터레이터(iterator)를 반환함.이는 데이턴의 나열을 표현하는 객체로 이를 통해 원소를 순차적으로 꺼낼 수 있음"
   ]
  },
  {
   "cell_type": "code",
   "execution_count": 23,
   "id": "0c9dac40",
   "metadata": {
    "ExecuteTime": {
     "end_time": "2022-12-03T14:38:30.265980Z",
     "start_time": "2022-12-03T14:38:30.262834Z"
    }
   },
   "outputs": [
    {
     "name": "stdout",
     "output_type": "stream",
     "text": [
      "John\n",
      "George\n",
      "Paul\n",
      "Ringo\n"
     ]
    }
   ],
   "source": [
    "for i in iter(x):\n",
    "    print(i)"
   ]
  },
  {
   "cell_type": "markdown",
   "id": "bd0c2aed",
   "metadata": {},
   "source": [
    "## 배열 원소를 역순으로 정렬하기"
   ]
  },
  {
   "cell_type": "markdown",
   "id": "9cf13801",
   "metadata": {},
   "source": [
    "[Do it! 실습 2-6] 뮤터블 시퀀스 원소를 역순으로 정렬"
   ]
  },
  {
   "cell_type": "code",
   "execution_count": 31,
   "id": "d3393012",
   "metadata": {
    "ExecuteTime": {
     "end_time": "2022-12-03T14:46:41.585522Z",
     "start_time": "2022-12-03T14:46:37.539661Z"
    }
   },
   "outputs": [
    {
     "name": "stdout",
     "output_type": "stream",
     "text": [
      "배열 원소를 역순으로 정렬합니다.\n",
      "원소 수를 입력하세요.: 7\n",
      "x[0]값을 입력하세요.: 2\n",
      "x[1]값을 입력하세요.: 5\n",
      "x[2]값을 입력하세요.: 1\n",
      "x[3]값을 입력하세요.: 3\n",
      "x[4]값을 입력하세요.: 9\n",
      "x[5]값을 입력하세요.: 6\n",
      "x[6]값을 입력하세요.: 7\n",
      "배열 원소를 역순으로 정렬했습니다.\n",
      "x[0] = 7\n",
      "x[1] = 6\n",
      "x[2] = 9\n",
      "x[3] = 3\n",
      "x[4] = 1\n",
      "x[5] = 5\n",
      "x[6] = 2\n"
     ]
    }
   ],
   "source": [
    "from typing import Any, MutableSequence\n",
    "\n",
    "def reverse_array(a: MutableSequence) -> Any:\n",
    "    for i in range(len(a)//2):\n",
    "        a[i], a[len(a)-1-i] = a[len(a)-1-i], a[i]\n",
    "\n",
    "if __name__ == '__main__':\n",
    "    print('배열 원소를 역순으로 정렬합니다.')\n",
    "    nx = int(input('원소 수를 입력하세요.: '))\n",
    "    x = [None] * nx\n",
    "    \n",
    "    for i in range(nx):\n",
    "        x[i] = int(input(f'x[{i}]값을 입력하세요.: '))\n",
    "        \n",
    "    reverse_array(x)\n",
    "    \n",
    "    print('배열 원소를 역순으로 정렬했습니다.')\n",
    "    \n",
    "    for i in range(nx):\n",
    "        print(f'x[{i}] = {x[i]}')"
   ]
  },
  {
   "cell_type": "markdown",
   "id": "06e34cf4",
   "metadata": {
    "ExecuteTime": {
     "end_time": "2022-12-03T14:46:50.105876Z",
     "start_time": "2022-12-03T14:46:50.101743Z"
    }
   },
   "source": [
    "다른 방법은?"
   ]
  },
  {
   "cell_type": "code",
   "execution_count": 37,
   "id": "fcd87cfe",
   "metadata": {
    "ExecuteTime": {
     "end_time": "2022-12-03T14:47:19.638723Z",
     "start_time": "2022-12-03T14:47:19.634500Z"
    }
   },
   "outputs": [
    {
     "data": {
      "text/plain": [
       "[7, 6, 9, 3, 1, 5, 2]"
      ]
     },
     "execution_count": 37,
     "metadata": {},
     "output_type": "execute_result"
    }
   ],
   "source": [
    "x.reverse()\n",
    "x"
   ]
  },
  {
   "cell_type": "code",
   "execution_count": 38,
   "id": "36b2e814",
   "metadata": {
    "ExecuteTime": {
     "end_time": "2022-12-03T14:47:31.313688Z",
     "start_time": "2022-12-03T14:47:31.309753Z"
    }
   },
   "outputs": [
    {
     "data": {
      "text/plain": [
       "[2, 5, 1, 3, 9, 6, 7]"
      ]
     },
     "execution_count": 38,
     "metadata": {},
     "output_type": "execute_result"
    }
   ],
   "source": [
    "list(reversed(x))"
   ]
  },
  {
   "cell_type": "markdown",
   "id": "9444d513",
   "metadata": {},
   "source": [
    "위의 경우 reversed() 함수는 역순으로 정렬하는 이터러블 객체를 생성함. 따라서 이를 정렬하여 반환하려면 list() 함수에 전달하여 새로운 리스트를 생성해야 함"
   ]
  },
  {
   "cell_type": "markdown",
   "id": "9ab9c5ab",
   "metadata": {},
   "source": [
    "## 기수 변환하기(n진수 구하기)"
   ]
  },
  {
   "cell_type": "markdown",
   "id": "f7821b56",
   "metadata": {},
   "source": [
    "기수는 수를 나타내며, 서수는 순서를 나타낸다는 차이가 있음. 10진수를 n진수로 나타내기 위해서는 10진수를 n으로 계속해서 나누고 더 이상 나눌 수 없을 때 중단함. 나눌 때마다 생성된 나머지의 수를 역순으로 하면 n진수로 나타낼 수 있음."
   ]
  },
  {
   "cell_type": "markdown",
   "id": "8f7d5e95",
   "metadata": {},
   "source": [
    "[Do it! 실습 2-7] 10진수 정숫값을 입력받아 2~36진수로 변환하여 출력하기"
   ]
  },
  {
   "cell_type": "code",
   "execution_count": 41,
   "id": "9e2c0e72",
   "metadata": {
    "ExecuteTime": {
     "end_time": "2022-12-03T15:00:59.941474Z",
     "start_time": "2022-12-03T15:00:56.332908Z"
    }
   },
   "outputs": [
    {
     "name": "stdout",
     "output_type": "stream",
     "text": [
      "10진수를 n진수로 변환합니다.\n",
      "변환할 값으로 음이 아닌 정수를 입력하세요.: 29\n",
      "어떤 진수로 변환할까요?: 2\n",
      "2진수로는 11101입니다.\n",
      "한 번 더 변환할까요?(Y ... 예/ N ... 아니오): N\n"
     ]
    }
   ],
   "source": [
    "def card_conv(x: int, r: int) -> str:\n",
    "    '''정숫값 x를 r진수로 변환한 뒤 그 수를 나타내는 문자열을 반환'''\n",
    "    \n",
    "    d = ''\n",
    "    dchar = '0123456789ABCDEFGHIJKLMNOPQRSTUVWXYZ'\n",
    "    \n",
    "    while x > 0:\n",
    "        d += dchar[x % r]\n",
    "        x //= r\n",
    "        \n",
    "    return d[::-1]\n",
    "\n",
    "if __name__ == '__main__':\n",
    "    print('10진수를 n진수로 변환합니다.')\n",
    "    \n",
    "    while True:\n",
    "        while True:\n",
    "            no = int(input('변환할 값으로 음이 아닌 정수를 입력하세요.: '))\n",
    "            if no > 0:\n",
    "                break\n",
    "                \n",
    "        while True:\n",
    "            cd = int(input('어떤 진수로 변환할까요?: '))\n",
    "            if 2 <= cd <= 36:\n",
    "                break\n",
    "        \n",
    "        print(f'{cd}진수로는 {card_conv(no, cd)}입니다.')\n",
    "        \n",
    "        retry = input(\"한 번 더 변환할까요?(Y ... 예/ N ... 아니오): \")\n",
    "        \n",
    "        if retry in {'N', 'no'}:\n",
    "            break"
   ]
  },
  {
   "cell_type": "markdown",
   "id": "b2f34791",
   "metadata": {},
   "source": [
    "## 보충 수업 2-6 함수 사이에 인수 주고 받기"
   ]
  },
  {
   "cell_type": "code",
   "execution_count": 44,
   "id": "90158b09",
   "metadata": {
    "ExecuteTime": {
     "end_time": "2022-12-03T15:08:10.959184Z",
     "start_time": "2022-12-03T15:08:09.334813Z"
    }
   },
   "outputs": [
    {
     "name": "stdout",
     "output_type": "stream",
     "text": [
      "x의 값을 입력하세요.: 5\n",
      "1부터 5까지 정수의 합은 15입니다.\n"
     ]
    }
   ],
   "source": [
    "def sum_1ton(n):\n",
    "    '''1부터 n까지 정수의 합'''\n",
    "    s = 0\n",
    "    while n > 0:\n",
    "        s += n\n",
    "        n -= 1\n",
    "    return s\n",
    "\n",
    "x = int(input('x의 값을 입력하세요.: '))\n",
    "print(f'1부터 {x}까지 정수의 합은 {sum_1ton(x)}입니다.')"
   ]
  },
  {
   "cell_type": "markdown",
   "id": "a6b4bed0",
   "metadata": {
    "ExecuteTime": {
     "end_time": "2022-12-03T15:07:59.763323Z",
     "start_time": "2022-12-03T15:07:59.747391Z"
    }
   },
   "source": [
    "sum_1ton() 함수의 실행 과정에서 n의 값은 5 -> 4 -> 3 -> 2 -> 1 -> 0 으로 1씩 감소함. 그래서 함수가 종료될 때 n의 값은 0임. 그러나 x의 값은 그대로 유지되고 있음. 그렇다면 복사되는 것일까?\n",
    "\n",
    "X 아님. 파이썬에서는 매개변수에 실제 인수가 **대입**됨. 복사가 아니라 n과 x가 참조하는 곳이 같음. 그러나 함수 종료 시에는 둘이 달랐음. 이는 바로 int가 이뮤터블 타입이기 때문임. n이 시작할 때에는 x와 같은 식별번호의 객체를 참조하지만, 값이 업데이트됨에 따라 다른 객체를 참조하게 되어 달라지는 것임. 만약 리스트였다면 매개변수가 변경되면 인수도 바뀌게 됨.\n",
    "\n",
    "파이썬이 아닌 다른 프로그래밍 언어에서는 실제 인수의 값을 매개변수에 복사하는 **값에 의한 호출(call by value)** 또는 실제 인수의 참조를 매개변수에 복사하여 매개변수가 실제 인수와 같아지는 **참조에 의한 호출(call by reference)** 를 사용함. 파이썬은 둘 다 아닌 중간적인 방식으로 값을 전달하는데, 공식 문서에서는 이를 **객체 참조에 의한 전달(call by object reference)** 라는 용어로 설명함.\n",
    "\n",
    "정리해보면,\n",
    "\n",
    "함수의 실행 시작 시점에는 매개변수와 실제 인수는 같은 객체 참조. 함수 내에서 매개변수의 값을 변경하면 인수의 형(type)에 따라 다음과 같이 구됨.\n",
    "\n",
    "1. 인수가 이뮤터블일 때: 매게변수의 값이 변경되면 다른 객체를 생성하여 그 객체에 대한 참조로 업데이트되고, 이에 따라 매개변수의 값을 변경해도 호출하는 쪽의 실제 인수에는 영향 없음\n",
    "2. 인수가 뮤터블일 때: 함수 내에서 매개변수의 값을 변경하면 객체 자체 업데이트. 즉 실제 인수의 값도 바뀜"
   ]
  },
  {
   "cell_type": "markdown",
   "id": "9ee3ecb9",
   "metadata": {},
   "source": [
    "[Do it! 실습 2C-6] 리스트에서 임의의 원솟값을 업데이트하기"
   ]
  },
  {
   "cell_type": "code",
   "execution_count": 45,
   "id": "91d8d1fd",
   "metadata": {
    "ExecuteTime": {
     "end_time": "2022-12-03T15:17:40.316939Z",
     "start_time": "2022-12-03T15:17:36.180075Z"
    }
   },
   "outputs": [
    {
     "name": "stdout",
     "output_type": "stream",
     "text": [
      "x = [11, 22, 33, 44, 55]\n",
      "업데이트할 인덱스를 선택하세요.: 2\n",
      "새로운 값을 입력하세요.: 99\n",
      "x = [11, 22, 99, 44, 55]\n"
     ]
    }
   ],
   "source": [
    "def change(lst, idx, val):\n",
    "    lst[idx] = val\n",
    "    \n",
    "x = [11, 22, 33, 44, 55]\n",
    "print('x =', x)\n",
    "\n",
    "index = int(input('업데이트할 인덱스를 선택하세요.: '))\n",
    "val = int(input('새로운 값을 입력하세요.: '))\n",
    "\n",
    "change(x, index, val)\n",
    "print(f'x = {x}')"
   ]
  },
  {
   "cell_type": "markdown",
   "id": "c27c1caa",
   "metadata": {},
   "source": [
    "위에서 리턴하지 않았어도 함수 내에서 리스트의 값을 변경하도록 구성됨."
   ]
  },
  {
   "cell_type": "markdown",
   "id": "49ba8c2f",
   "metadata": {},
   "source": [
    "## 소수 나열하기\n",
    "\n",
    "소수(prime number)는 자신과 1 이외의 정수로 나누어 떨어지지 않는 정수. 나누어 떨어지는 정수가 하나 이상 존재하면 그 수는 합성수(composite number)임. 1,000 이하의 모든 소수를 나열하는 프로그램을 짜보자"
   ]
  },
  {
   "cell_type": "markdown",
   "id": "166c7da7",
   "metadata": {},
   "source": [
    "[Do it! 실습 2-8] 1,000 이하의 소수를 나열하기"
   ]
  },
  {
   "cell_type": "code",
   "execution_count": 2,
   "id": "e426aa82",
   "metadata": {
    "ExecuteTime": {
     "end_time": "2022-12-11T14:51:21.582937Z",
     "start_time": "2022-12-11T14:51:21.565313Z"
    }
   },
   "outputs": [
    {
     "name": "stdout",
     "output_type": "stream",
     "text": [
      "2\n",
      "3\n",
      "5\n",
      "7\n",
      "11\n",
      "13\n",
      "17\n",
      "19\n",
      "23\n",
      "29\n",
      "31\n",
      "37\n",
      "41\n",
      "43\n",
      "47\n",
      "53\n",
      "59\n",
      "61\n",
      "67\n",
      "71\n",
      "73\n",
      "79\n",
      "83\n",
      "89\n",
      "97\n",
      "101\n",
      "103\n",
      "107\n",
      "109\n",
      "113\n",
      "127\n",
      "131\n",
      "137\n",
      "139\n",
      "149\n",
      "151\n",
      "157\n",
      "163\n",
      "167\n",
      "173\n",
      "179\n",
      "181\n",
      "191\n",
      "193\n",
      "197\n",
      "199\n",
      "211\n",
      "223\n",
      "227\n",
      "229\n",
      "233\n",
      "239\n",
      "241\n",
      "251\n",
      "257\n",
      "263\n",
      "269\n",
      "271\n",
      "277\n",
      "281\n",
      "283\n",
      "293\n",
      "307\n",
      "311\n",
      "313\n",
      "317\n",
      "331\n",
      "337\n",
      "347\n",
      "349\n",
      "353\n",
      "359\n",
      "367\n",
      "373\n",
      "379\n",
      "383\n",
      "389\n",
      "397\n",
      "401\n",
      "409\n",
      "419\n",
      "421\n",
      "431\n",
      "433\n",
      "439\n",
      "443\n",
      "449\n",
      "457\n",
      "461\n",
      "463\n",
      "467\n",
      "479\n",
      "487\n",
      "491\n",
      "499\n",
      "503\n",
      "509\n",
      "521\n",
      "523\n",
      "541\n",
      "547\n",
      "557\n",
      "563\n",
      "569\n",
      "571\n",
      "577\n",
      "587\n",
      "593\n",
      "599\n",
      "601\n",
      "607\n",
      "613\n",
      "617\n",
      "619\n",
      "631\n",
      "641\n",
      "643\n",
      "647\n",
      "653\n",
      "659\n",
      "661\n",
      "673\n",
      "677\n",
      "683\n",
      "691\n",
      "701\n",
      "709\n",
      "719\n",
      "727\n",
      "733\n",
      "739\n",
      "743\n",
      "751\n",
      "757\n",
      "761\n",
      "769\n",
      "773\n",
      "787\n",
      "797\n",
      "809\n",
      "811\n",
      "821\n",
      "823\n",
      "827\n",
      "829\n",
      "839\n",
      "853\n",
      "857\n",
      "859\n",
      "863\n",
      "877\n",
      "881\n",
      "883\n",
      "887\n",
      "907\n",
      "911\n",
      "919\n",
      "929\n",
      "937\n",
      "941\n",
      "947\n",
      "953\n",
      "967\n",
      "971\n",
      "977\n",
      "983\n",
      "991\n",
      "997\n",
      "나눗셈을 실행한 횟수: 78022\n"
     ]
    }
   ],
   "source": [
    "counter = 0\n",
    "\n",
    "for i in range(2, 1001):\n",
    "    for j in range(2, i):\n",
    "        counter += 1\n",
    "        if i % j == 0:\n",
    "            break\n",
    "    else:\n",
    "        print(i)\n",
    "        \n",
    "print(f'나눗셈을 실행한 횟수: {counter}')"
   ]
  },
  {
   "cell_type": "markdown",
   "id": "0c180033",
   "metadata": {},
   "source": [
    "n이 2와 3으로 나누어 떨어지지 않으면, 2와 3으로 이루어진 6으로도 나누어 떨어지지 않음. 즉 모든 숫자에 대해 나누어 떨어지는지 확인하기보다는 n보다 작은 소수로 나누어 떨어지는지만 확인하여도 소수인지 알 수 있음. 이 원리를 적용하여 알고리즘을 개선해보자"
   ]
  },
  {
   "cell_type": "markdown",
   "id": "b37c3b15",
   "metadata": {},
   "source": [
    "[Do it! 실습 2-9] 1,000이하의 소수를 나열하기(알고리즘 개선 1)"
   ]
  },
  {
   "cell_type": "code",
   "execution_count": 5,
   "id": "ea23d564",
   "metadata": {
    "ExecuteTime": {
     "end_time": "2022-12-13T15:54:32.017225Z",
     "start_time": "2022-12-13T15:54:32.006957Z"
    }
   },
   "outputs": [
    {
     "name": "stdout",
     "output_type": "stream",
     "text": [
      "2\n",
      "3\n",
      "5\n",
      "7\n",
      "11\n",
      "13\n",
      "17\n",
      "19\n",
      "23\n",
      "29\n",
      "31\n",
      "37\n",
      "41\n",
      "43\n",
      "47\n",
      "53\n",
      "59\n",
      "61\n",
      "67\n",
      "71\n",
      "73\n",
      "79\n",
      "83\n",
      "89\n",
      "97\n",
      "101\n",
      "103\n",
      "107\n",
      "109\n",
      "113\n",
      "127\n",
      "131\n",
      "137\n",
      "139\n",
      "149\n",
      "151\n",
      "157\n",
      "163\n",
      "167\n",
      "173\n",
      "179\n",
      "181\n",
      "191\n",
      "193\n",
      "197\n",
      "199\n",
      "211\n",
      "223\n",
      "227\n",
      "229\n",
      "233\n",
      "239\n",
      "241\n",
      "251\n",
      "257\n",
      "263\n",
      "269\n",
      "271\n",
      "277\n",
      "281\n",
      "283\n",
      "293\n",
      "307\n",
      "311\n",
      "313\n",
      "317\n",
      "331\n",
      "337\n",
      "347\n",
      "349\n",
      "353\n",
      "359\n",
      "367\n",
      "373\n",
      "379\n",
      "383\n",
      "389\n",
      "397\n",
      "401\n",
      "409\n",
      "419\n",
      "421\n",
      "431\n",
      "433\n",
      "439\n",
      "443\n",
      "449\n",
      "457\n",
      "461\n",
      "463\n",
      "467\n",
      "479\n",
      "487\n",
      "491\n",
      "499\n",
      "503\n",
      "509\n",
      "521\n",
      "523\n",
      "541\n",
      "547\n",
      "557\n",
      "563\n",
      "569\n",
      "571\n",
      "577\n",
      "587\n",
      "593\n",
      "599\n",
      "601\n",
      "607\n",
      "613\n",
      "617\n",
      "619\n",
      "631\n",
      "641\n",
      "643\n",
      "647\n",
      "653\n",
      "659\n",
      "661\n",
      "673\n",
      "677\n",
      "683\n",
      "691\n",
      "701\n",
      "709\n",
      "719\n",
      "727\n",
      "733\n",
      "739\n",
      "743\n",
      "751\n",
      "757\n",
      "761\n",
      "769\n",
      "773\n",
      "787\n",
      "797\n",
      "809\n",
      "811\n",
      "821\n",
      "823\n",
      "827\n",
      "829\n",
      "839\n",
      "853\n",
      "857\n",
      "859\n",
      "863\n",
      "877\n",
      "881\n",
      "883\n",
      "887\n",
      "907\n",
      "911\n",
      "919\n",
      "929\n",
      "937\n",
      "941\n",
      "947\n",
      "953\n",
      "967\n",
      "971\n",
      "977\n",
      "983\n",
      "991\n",
      "997\n",
      "나눗셈을 실행한 횟수: 14622\n"
     ]
    }
   ],
   "source": [
    "counter = 0\n",
    "ptr = 0\n",
    "prime = [None] * 500               # 미리 초기화\n",
    "\n",
    "prime[ptr] = 2                     # 2는 미리 넣어두기\n",
    "ptr += 1                           # 2에 대한 포인터\n",
    "\n",
    "for i in range(3, 1001, 2):        # 짝수는 어차피 소수가 아님(2제외) 홀수에 대해서만 계산\n",
    "    for j in range(1, ptr):\n",
    "        counter += 1\n",
    "        if i % prime[j] == 0:      # 이미 홀수라서 2 이후부터 나누면 됨.\n",
    "            break\n",
    "    else:\n",
    "        prime[ptr] = i             # 소수를 prime 배열에 넣고\n",
    "        ptr += 1                   # 포인터 하나 뒤로\n",
    "        \n",
    "for i in range(ptr):\n",
    "    print(prime[i])\n",
    "        \n",
    "print(f'나눗셈을 실행한 횟수: {counter}')"
   ]
  },
  {
   "cell_type": "markdown",
   "id": "e7b4fba4",
   "metadata": {},
   "source": [
    "거의 1/7로 줄었음"
   ]
  },
  {
   "cell_type": "markdown",
   "id": "03c6c06f",
   "metadata": {},
   "source": [
    "개선 방법이 하나 더 있음. 기존에 나도 알고 있던 방법인데, 어떤 수의 약수는 제곱근을 기준으로 대칭성을 가짐. 즉 소수인지 검사할 시에는 제곱근 이하의 값에 대해서만 수행하면 됨."
   ]
  },
  {
   "cell_type": "markdown",
   "id": "cc7ad283",
   "metadata": {},
   "source": [
    "[Do it! 실습 2-10] 1,000이하의 소수를 나열하기(알고리즘 개선 2)"
   ]
  },
  {
   "cell_type": "code",
   "execution_count": 14,
   "id": "420def5e",
   "metadata": {
    "ExecuteTime": {
     "end_time": "2022-12-13T16:08:37.510585Z",
     "start_time": "2022-12-13T16:08:37.503638Z"
    }
   },
   "outputs": [
    {
     "name": "stdout",
     "output_type": "stream",
     "text": [
      "2\n",
      "3\n",
      "5\n",
      "7\n",
      "11\n",
      "13\n",
      "17\n",
      "19\n",
      "23\n",
      "29\n",
      "31\n",
      "37\n",
      "41\n",
      "43\n",
      "47\n",
      "53\n",
      "59\n",
      "61\n",
      "67\n",
      "71\n",
      "73\n",
      "79\n",
      "83\n",
      "89\n",
      "97\n",
      "101\n",
      "103\n",
      "107\n",
      "109\n",
      "113\n",
      "127\n",
      "131\n",
      "137\n",
      "139\n",
      "149\n",
      "151\n",
      "157\n",
      "163\n",
      "167\n",
      "173\n",
      "179\n",
      "181\n",
      "191\n",
      "193\n",
      "197\n",
      "199\n",
      "211\n",
      "223\n",
      "227\n",
      "229\n",
      "233\n",
      "239\n",
      "241\n",
      "251\n",
      "257\n",
      "263\n",
      "269\n",
      "271\n",
      "277\n",
      "281\n",
      "283\n",
      "293\n",
      "307\n",
      "311\n",
      "313\n",
      "317\n",
      "331\n",
      "337\n",
      "347\n",
      "349\n",
      "353\n",
      "359\n",
      "367\n",
      "373\n",
      "379\n",
      "383\n",
      "389\n",
      "397\n",
      "401\n",
      "409\n",
      "419\n",
      "421\n",
      "431\n",
      "433\n",
      "439\n",
      "443\n",
      "449\n",
      "457\n",
      "461\n",
      "463\n",
      "467\n",
      "479\n",
      "487\n",
      "491\n",
      "499\n",
      "503\n",
      "509\n",
      "521\n",
      "523\n",
      "541\n",
      "547\n",
      "557\n",
      "563\n",
      "569\n",
      "571\n",
      "577\n",
      "587\n",
      "593\n",
      "599\n",
      "601\n",
      "607\n",
      "613\n",
      "617\n",
      "619\n",
      "631\n",
      "641\n",
      "643\n",
      "647\n",
      "653\n",
      "659\n",
      "661\n",
      "673\n",
      "677\n",
      "683\n",
      "691\n",
      "701\n",
      "709\n",
      "719\n",
      "727\n",
      "733\n",
      "739\n",
      "743\n",
      "751\n",
      "757\n",
      "761\n",
      "769\n",
      "773\n",
      "787\n",
      "797\n",
      "809\n",
      "811\n",
      "821\n",
      "823\n",
      "827\n",
      "829\n",
      "839\n",
      "853\n",
      "857\n",
      "859\n",
      "863\n",
      "877\n",
      "881\n",
      "883\n",
      "887\n",
      "907\n",
      "911\n",
      "919\n",
      "929\n",
      "937\n",
      "941\n",
      "947\n",
      "953\n",
      "967\n",
      "971\n",
      "977\n",
      "983\n",
      "991\n",
      "997\n",
      "나눗셈을 실행한 횟수: 3774\n"
     ]
    }
   ],
   "source": [
    "counter = 0\n",
    "ptr = 0\n",
    "prime = [None] * 500               # 미리 초기화\n",
    "\n",
    "prime[ptr] = 2                     # 2는 미리 넣어두기\n",
    "ptr += 1                           # 2에 대한 포인터\n",
    "\n",
    "prime[ptr] = 3                     # 3는 미리 넣어두기\n",
    "ptr += 1                           # 3에 대한 포인터\n",
    "\n",
    "for i in range(5, 1001, 2):        # 짝수는 어차피 소수가 아님(2제외) 홀수에 대해서만 계산\n",
    "    j = 1\n",
    "    while prime[j] * prime[j] <= i:\n",
    "        counter += 2               # 연산이 2개임\n",
    "        if i % prime[j] == 0:      # 이미 홀수라서 2 이후부터 나누면 됨.\n",
    "            break\n",
    "        j += 1\n",
    "    else:\n",
    "        counter += 1\n",
    "        prime[ptr] = i             # 소수를 prime 배열에 넣고\n",
    "        ptr += 1                   # 포인터 하나 뒤로\n",
    "        \n",
    "for i in range(ptr):\n",
    "    print(prime[i])\n",
    "        \n",
    "print(f'나눗셈을 실행한 횟수: {counter}')"
   ]
  },
  {
   "cell_type": "markdown",
   "id": "e69b9a75",
   "metadata": {},
   "source": [
    "위처럼 78022 -> 14622 -> 3774번의 연산으로 줄어든 것을 알 수 있음. 다만 가독성 자체는 많이 떨어지는 것을 확인할 수 있음. 효율과 가독성을 적절히 고려하여 코드를 짜야할 듯."
   ]
  },
  {
   "cell_type": "markdown",
   "id": "55444079",
   "metadata": {},
   "source": [
    "### list.copy(), copy.deepcopy()\n",
    "\n",
    "copy는 얕은 복사, deepcopy는 깊은 복사임."
   ]
  },
  {
   "cell_type": "code",
   "execution_count": 16,
   "id": "87757872",
   "metadata": {
    "ExecuteTime": {
     "end_time": "2022-12-13T23:09:26.791218Z",
     "start_time": "2022-12-13T23:09:26.786719Z"
    }
   },
   "outputs": [
    {
     "name": "stdout",
     "output_type": "stream",
     "text": [
      "[[1, 2, 3], ['x', 'y']] [[1, 2, 3], ['x', 'y']]\n",
      "[[1, 10, 3], ['x', 'y']] [[1, 10, 3], ['x', 'y']]\n"
     ]
    }
   ],
   "source": [
    "a = [[1,2,3], ['x', 'y']]\n",
    "b = a\n",
    "print(a, b)\n",
    "\n",
    "b[0][1] = 10\n",
    "print(a, b)"
   ]
  },
  {
   "cell_type": "code",
   "execution_count": 17,
   "id": "f2f18376",
   "metadata": {
    "ExecuteTime": {
     "end_time": "2022-12-13T23:09:35.960514Z",
     "start_time": "2022-12-13T23:09:35.957250Z"
    }
   },
   "outputs": [
    {
     "name": "stdout",
     "output_type": "stream",
     "text": [
      "[[1, 2, 3], ['x', 'y']] [[1, 2, 3], ['x', 'y']]\n",
      "[[1, 10, 3], ['x', 'y']] [[1, 10, 3], ['x', 'y']]\n"
     ]
    }
   ],
   "source": [
    "a = [[1,2,3], ['x', 'y']]\n",
    "b = a.copy()\n",
    "print(a, b)\n",
    "\n",
    "b[0][1] = 10\n",
    "print(a, b)"
   ]
  },
  {
   "cell_type": "code",
   "execution_count": 18,
   "id": "46f0ea8b",
   "metadata": {
    "ExecuteTime": {
     "end_time": "2022-12-13T23:09:52.699558Z",
     "start_time": "2022-12-13T23:09:52.693681Z"
    }
   },
   "outputs": [
    {
     "name": "stdout",
     "output_type": "stream",
     "text": [
      "[[1, 2, 3], ['x', 'y']] [[1, 2, 3], ['x', 'y']]\n",
      "[[1, 2, 3], ['x', 'y']] [[1, 10, 3], ['x', 'y']]\n"
     ]
    }
   ],
   "source": [
    "import copy\n",
    "\n",
    "a = [[1,2,3], ['x', 'y']]\n",
    "b = copy.deepcopy(a)\n",
    "print(a, b)\n",
    "\n",
    "b[0][1] = 10\n",
    "print(a, b)"
   ]
  },
  {
   "cell_type": "markdown",
   "id": "fa47d9d8",
   "metadata": {},
   "source": [
    "깊은 복사를 수행할 때에만, 기존 변수의 참조 객체 내용이 변경되지 않음."
   ]
  },
  {
   "cell_type": "markdown",
   "id": "43ce1377",
   "metadata": {},
   "source": [
    "# 마치며..\n",
    "\n",
    "이번 챕터에서 학습한 내용이야 파이썬의 기초적인 부분이라 새로운 내용이 많지는 않았지만, 이 부분을 명확하게 다시 짚고 넘어가야 이 다음을 잘 해결할 수 있을 것으로 보임. 검색 알고리즘부터 잘 이해하고 공부해보자!!"
   ]
  }
 ],
 "metadata": {
  "kernelspec": {
   "display_name": "tsa-py3.9",
   "language": "python",
   "name": "tsa"
  },
  "language_info": {
   "codemirror_mode": {
    "name": "ipython",
    "version": 3
   },
   "file_extension": ".py",
   "mimetype": "text/x-python",
   "name": "python",
   "nbconvert_exporter": "python",
   "pygments_lexer": "ipython3",
   "version": "3.9.0"
  }
 },
 "nbformat": 4,
 "nbformat_minor": 5
}
