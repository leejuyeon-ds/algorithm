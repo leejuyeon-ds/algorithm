{
 "cells": [
  {
   "cell_type": "markdown",
   "id": "7ababe48",
   "metadata": {},
   "source": [
    "# 알고리즘이란?"
   ]
  },
  {
   "cell_type": "markdown",
   "id": "83b29234",
   "metadata": {},
   "source": [
    "[Do it! 실습 1-1] 세 정수를 입력받아 최댓값 구하기"
   ]
  },
  {
   "cell_type": "code",
   "execution_count": 3,
   "id": "9b06dfee",
   "metadata": {
    "ExecuteTime": {
     "end_time": "2022-11-27T16:02:04.270103Z",
     "start_time": "2022-11-27T16:02:02.502295Z"
    }
   },
   "outputs": [
    {
     "name": "stdout",
     "output_type": "stream",
     "text": [
      "세 정수의 최댓값을 구합니다.\n",
      "정수 a의 값을 입력하세요.: 1\n",
      "정수 b의 값을 입력하세요.: 3\n",
      "정수 c의 값을 입력하세요.: 2\n",
      "최댓값은 3입니다.\n"
     ]
    }
   ],
   "source": [
    "print('세 정수의 최댓값을 구합니다.')\n",
    "a = int(input('정수 a의 값을 입력하세요.: '))\n",
    "b = int(input('정수 b의 값을 입력하세요.: '))\n",
    "c = int(input('정수 c의 값을 입력하세요.: '))\n",
    "\n",
    "# algorithm: 순차 구조\n",
    "max_val = a\n",
    "if b > max_val: max_val = b # 조건식과 선택 구조(select structure)\n",
    "if c > max_val: max_val = c\n",
    "\n",
    "print(f'최댓값은 {max_val}입니다.')"
   ]
  },
  {
   "cell_type": "markdown",
   "id": "8d594b3f",
   "metadata": {},
   "source": [
    "위와 같은 순차적인 실행 구조를 순차 구조(sequential structure)라고 함. if와 : 사이의 식을 조건문이라 하며, 조건식으로 평가 결과에 따라 실행 흐름이 변경되는 구조를 선택 구조(select structure)라고 함."
   ]
  },
  {
   "cell_type": "markdown",
   "id": "3c7cc79b",
   "metadata": {},
   "source": [
    "[Do it! 실습 1-1] 세 정수를 입력받아 최댓값 구하기 (함수)"
   ]
  },
  {
   "cell_type": "code",
   "execution_count": 4,
   "id": "e0fb5823",
   "metadata": {
    "ExecuteTime": {
     "end_time": "2022-11-27T16:17:14.045380Z",
     "start_time": "2022-11-27T16:17:14.040487Z"
    }
   },
   "outputs": [
    {
     "name": "stdout",
     "output_type": "stream",
     "text": [
      "max3(3,2,1): = 3\n",
      "max3(3,2,1): = 3\n",
      "max3(3,2,1): = 3\n",
      "max3(3,2,1): = 3\n"
     ]
    }
   ],
   "source": [
    "def max3(a, b, c):\n",
    "    '''a,b,c의 최댓값을 구하여 반환'''\n",
    "    max_val = a\n",
    "    if b > max_val: max_val = b\n",
    "    if c > max_val: max_val = c\n",
    "    return max_val # 최댓값 반환\n",
    "\n",
    "print(f'max3(3,2,1): = {max3(3,2,1)}')\n",
    "print(f'max3(3,2,1): = {max3(3,2,2)}')\n",
    "print(f'max3(3,2,1): = {max3(3,1,2)}')\n",
    "print(f'max3(3,2,1): = {max3(1,2,3)}')"
   ]
  },
  {
   "cell_type": "markdown",
   "id": "20f3c5bc",
   "metadata": {},
   "source": [
    "**알고리즘**이란 어떠한 문제를 해결하기 위해 정해 놓은 일련의 절차. 특히 올바른 알고리즘은 어떠한 경우에도 실행 결과가 똑같이 나오는 것을 말함."
   ]
  },
  {
   "cell_type": "markdown",
   "id": "40034001",
   "metadata": {},
   "source": [
    "[Do it! 실습 1C-2] 세 정수를 입력받아 중앙값 구하기 (함수)"
   ]
  },
  {
   "cell_type": "code",
   "execution_count": 5,
   "id": "9327cceb",
   "metadata": {
    "ExecuteTime": {
     "end_time": "2022-11-27T16:27:31.666257Z",
     "start_time": "2022-11-27T16:27:28.022337Z"
    }
   },
   "outputs": [
    {
     "name": "stdout",
     "output_type": "stream",
     "text": [
      "세 정수의 중앙값을 구합니다.\n",
      "정수 a의 값을 입력하세요.: 1\n",
      "정수 b의 값을 입력하세요.: 3\n",
      "정수 c의 값을 입력하세요.: 2\n",
      "중앙값은 2입니다.\n"
     ]
    }
   ],
   "source": [
    "def med3(a,b,c):\n",
    "    '''a,b,c의 중앙값을 구하여 반환'''\n",
    "    if a >= b:\n",
    "        if b >= c:\n",
    "            return b\n",
    "        elif c >= a:\n",
    "            return a\n",
    "        else:\n",
    "            return c\n",
    "    elif a > c:\n",
    "        return a\n",
    "    elif b > c:\n",
    "        return c\n",
    "    else:\n",
    "        return b\n",
    "    \n",
    "print('세 정수의 중앙값을 구합니다.')\n",
    "a = int(input('정수 a의 값을 입력하세요.: '))\n",
    "b = int(input('정수 b의 값을 입력하세요.: '))\n",
    "c = int(input('정수 c의 값을 입력하세요.: '))\n",
    "\n",
    "print(f'중앙값은 {med3(a,b,c)}입니다.')"
   ]
  },
  {
   "cell_type": "markdown",
   "id": "98d83e6e",
   "metadata": {},
   "source": [
    "아래 두 식은 동일하지만, 효율은 위가 더 좋음\n",
    "\n",
    "```\n",
    "if a >= b:\n",
    "    if b >= c:\n",
    "```\n",
    "\n",
    "```\n",
    "if (a >= b and b >= c):\n",
    "```\n",
    "\n",
    "위 코드에서는 a >= b가 성립하지 않으면, 이후를 실행하지 않으나 아래 코드에서는 두 조건문을 모두 실행한 뒤 만족 여부를 따지기 때문"
   ]
  },
  {
   "cell_type": "markdown",
   "id": "66130ced",
   "metadata": {},
   "source": [
    "[Do it! 실습 1-3] 입력받은 정숫값의 부호를 판단하여 출력"
   ]
  },
  {
   "cell_type": "code",
   "execution_count": 9,
   "id": "04761c4b",
   "metadata": {
    "ExecuteTime": {
     "end_time": "2022-11-27T16:33:31.225762Z",
     "start_time": "2022-11-27T16:33:31.222244Z"
    }
   },
   "outputs": [],
   "source": [
    "def med3(val):\n",
    "    '''a의 부호를 판단하여 반환'''\n",
    "    if val == 0:\n",
    "        return 0\n",
    "    elif val < 0:\n",
    "        return '음수'\n",
    "    else:\n",
    "        return '양수'"
   ]
  },
  {
   "cell_type": "code",
   "execution_count": 12,
   "id": "2caf1e90",
   "metadata": {
    "ExecuteTime": {
     "end_time": "2022-11-27T16:33:57.181815Z",
     "start_time": "2022-11-27T16:33:53.774596Z"
    }
   },
   "outputs": [
    {
     "name": "stdout",
     "output_type": "stream",
     "text": [
      "정수를 입력하세요: 0\n",
      "이 수는 0입니다.\n",
      "정수를 입력하세요: 1\n",
      "이 수는 양수입니다.\n",
      "정수를 입력하세요: -2\n",
      "이 수는 음수입니다.\n"
     ]
    }
   ],
   "source": [
    "n = int(input('정수를 입력하세요: '))\n",
    "print(f\"이 수는 {med3(n)}입니다.\")\n",
    "\n",
    "n = int(input('정수를 입력하세요: '))\n",
    "print(f\"이 수는 {med3(n)}입니다.\")\n",
    "\n",
    "n = int(input('정수를 입력하세요: '))\n",
    "print(f\"이 수는 {med3(n)}입니다.\")"
   ]
  },
  {
   "cell_type": "markdown",
   "id": "a1d8ddb7",
   "metadata": {
    "ExecuteTime": {
     "end_time": "2022-11-27T16:39:05.668854Z",
     "start_time": "2022-11-27T16:39:05.663707Z"
    }
   },
   "source": [
    "단항/이항/삼항 연산자는 피연산자의 개수에 따라 3가지로 나뉘며, 조건문은 `a if b else c`로 파이썬에서 유일한 삼항 연산자임."
   ]
  },
  {
   "cell_type": "markdown",
   "id": "04ed544b",
   "metadata": {},
   "source": [
    "# 결론\n",
    "\n",
    "아주아주아주아주 간단한 알고리즘에 대해 작성해보고, 알고리즘이란 무엇이고 어떤 용어로 구성되는지를 알아보았음."
   ]
  }
 ],
 "metadata": {
  "kernelspec": {
   "display_name": "tsa-py3.9",
   "language": "python",
   "name": "tsa"
  },
  "language_info": {
   "codemirror_mode": {
    "name": "ipython",
    "version": 3
   },
   "file_extension": ".py",
   "mimetype": "text/x-python",
   "name": "python",
   "nbconvert_exporter": "python",
   "pygments_lexer": "ipython3",
   "version": "3.9.0"
  }
 },
 "nbformat": 4,
 "nbformat_minor": 5
}
