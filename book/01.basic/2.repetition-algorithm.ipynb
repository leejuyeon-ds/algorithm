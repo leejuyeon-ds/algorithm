{
 "cells": [
  {
   "cell_type": "markdown",
   "id": "11c2a724",
   "metadata": {},
   "source": [
    "# 반복하는 알고리즘"
   ]
  },
  {
   "cell_type": "markdown",
   "id": "15bc8ba4",
   "metadata": {},
   "source": [
    "[Do it 실습 1-7] 1부터 n까지 정수의 합 구하기 1(while 문)"
   ]
  },
  {
   "cell_type": "code",
   "execution_count": 2,
   "id": "a0193b20",
   "metadata": {
    "ExecuteTime": {
     "end_time": "2022-11-27T16:45:01.475335Z",
     "start_time": "2022-11-27T16:45:01.472059Z"
    }
   },
   "outputs": [],
   "source": [
    "def sum1ton_while(n):\n",
    "    '''1부터 n까지의 정수 합 반환'''\n",
    "    sum_val = 0\n",
    "    i = 1\n",
    "    \n",
    "    while i <= n:\n",
    "        sum_val += i\n",
    "        i += 1\n",
    "        \n",
    "    return sum_val"
   ]
  },
  {
   "cell_type": "code",
   "execution_count": 4,
   "id": "509bd675",
   "metadata": {
    "ExecuteTime": {
     "end_time": "2022-11-27T16:45:09.516752Z",
     "start_time": "2022-11-27T16:45:08.269544Z"
    }
   },
   "outputs": [
    {
     "name": "stdout",
     "output_type": "stream",
     "text": [
      "n을 입력하세요: 5\n",
      "1부터 5까지의 정수의 합은 15입니다.\n"
     ]
    }
   ],
   "source": [
    "n = int(input(\"n을 입력하세요: \"))\n",
    "print(f'1부터 {n}까지의 정수의 합은 {sum1ton_while(n)}입니다.')"
   ]
  },
  {
   "cell_type": "markdown",
   "id": "e0707651",
   "metadata": {},
   "source": [
    "어떤 조건이 성립하는 동안 반복해서 처리하는 것을 **반복 구조(repitition structure)** 라고 하며, 일반적으로는 루프(loop)라고 함. 특히 while 문은 실행 하기 전에 반복을 계속할 것인지를 판단하는 사전 판단 반복 구조임. \n",
    "\n",
    "위 루프에서 카운터용 변수인 i는 n을 초과하게 됨. 초과해야 반복문에서 벗어나기 때문."
   ]
  },
  {
   "cell_type": "markdown",
   "id": "38ebb09f",
   "metadata": {},
   "source": [
    "[Do it 실습 1-8] 1부터 n까지 정수의 합 구하기 1(for 문)"
   ]
  },
  {
   "cell_type": "code",
   "execution_count": 5,
   "id": "487b77e1",
   "metadata": {
    "ExecuteTime": {
     "end_time": "2022-11-27T16:49:50.731610Z",
     "start_time": "2022-11-27T16:49:50.728393Z"
    }
   },
   "outputs": [],
   "source": [
    "def sum1ton_for(n):\n",
    "    '''1부터 n까지의 정수 합 반환'''\n",
    "    sum_val = 0\n",
    "    \n",
    "    for i in range(1, n+1):\n",
    "        sum_val += i\n",
    "        \n",
    "    return sum_val"
   ]
  },
  {
   "cell_type": "code",
   "execution_count": 6,
   "id": "a396d59e",
   "metadata": {
    "ExecuteTime": {
     "end_time": "2022-11-27T16:49:58.695556Z",
     "start_time": "2022-11-27T16:49:55.283640Z"
    }
   },
   "outputs": [
    {
     "name": "stdout",
     "output_type": "stream",
     "text": [
      "n을 입력하세요: 5\n",
      "1부터 5까지의 정수의 합은 15입니다.\n"
     ]
    }
   ],
   "source": [
    "n = int(input(\"n을 입력하세요: \"))\n",
    "print(f'1부터 {n}까지의 정수의 합은 {sum1ton_for(n)}입니다.')"
   ]
  },
  {
   "cell_type": "markdown",
   "id": "8da2a11e",
   "metadata": {},
   "source": [
    "변수가 하나일 때에는 while 문보다는 for 문을 사용하는 것이 좋다고 함."
   ]
  },
  {
   "cell_type": "markdown",
   "id": "017a8aab",
   "metadata": {
    "ExecuteTime": {
     "end_time": "2022-11-27T16:53:51.720324Z",
     "start_time": "2022-11-27T16:53:51.716151Z"
    }
   },
   "source": [
    "[추가] 1부터 n까지 정수의 합은 가우스 덧셈으로도 구할 수 있음"
   ]
  },
  {
   "cell_type": "code",
   "execution_count": 12,
   "id": "f73e5d41",
   "metadata": {
    "ExecuteTime": {
     "end_time": "2022-11-27T16:54:34.844034Z",
     "start_time": "2022-11-27T16:54:34.841505Z"
    }
   },
   "outputs": [],
   "source": [
    "def sum1ton_gauss(n):\n",
    "    return n * (n + 1) // 2"
   ]
  },
  {
   "cell_type": "code",
   "execution_count": 13,
   "id": "90b1ea78",
   "metadata": {
    "ExecuteTime": {
     "end_time": "2022-11-27T16:54:37.339651Z",
     "start_time": "2022-11-27T16:54:35.189167Z"
    }
   },
   "outputs": [
    {
     "name": "stdout",
     "output_type": "stream",
     "text": [
      "n을 입력하세요: 5\n",
      "1부터 5까지의 정수의 합은 15입니다.\n"
     ]
    }
   ],
   "source": [
    "n = int(input(\"n을 입력하세요: \"))\n",
    "print(f'1부터 {n}까지의 정수의 합은 {sum1ton_gauss(n)}입니다.')"
   ]
  },
  {
   "cell_type": "markdown",
   "id": "870b332c",
   "metadata": {},
   "source": [
    "반복할 수 있는 객체를 **이터러블 객체** 라고 하며, 대표적인 이터러블 자료형으로는 list, str, tuple이 있음. range를 통해서 이터러블 객체를 생성할 수 있으며, 이 range의 경우, step을 지정하여 생성해줄 수도 있음. \n",
    "\n",
    "```range(a, b, step)```"
   ]
  },
  {
   "cell_type": "code",
   "execution_count": 14,
   "id": "b244d162",
   "metadata": {
    "ExecuteTime": {
     "end_time": "2022-11-27T16:59:29.263659Z",
     "start_time": "2022-11-27T16:59:29.259361Z"
    }
   },
   "outputs": [],
   "source": [
    "def sortab(a, b):\n",
    "    '''a와 b를 오름차순으로 정렬'''\n",
    "    if a > b:\n",
    "        a, b = b, a\n",
    "        \n",
    "    return a, b\n",
    "\n",
    "def sumatob_for(a, b):\n",
    "    '''a부터 b까지의 정수 합 반환'''\n",
    "    sum_val = 0\n",
    "    \n",
    "    for i in range(a, b+1):\n",
    "        sum_val += i\n",
    "        \n",
    "    return sum_val"
   ]
  },
  {
   "cell_type": "code",
   "execution_count": 18,
   "id": "7875368c",
   "metadata": {
    "ExecuteTime": {
     "end_time": "2022-11-27T17:00:40.371610Z",
     "start_time": "2022-11-27T17:00:37.835441Z"
    }
   },
   "outputs": [
    {
     "name": "stdout",
     "output_type": "stream",
     "text": [
      "a을 입력하세요: 8\n",
      "b을 입력하세요: 3\n",
      "3부터 8까지의 정수의 합은 33입니다.\n"
     ]
    }
   ],
   "source": [
    "a = int(input(\"a을 입력하세요: \"))\n",
    "b = int(input(\"b을 입력하세요: \"))\n",
    "\n",
    "a, b = sortab(a, b)\n",
    "print(f'{a}부터 {b}까지의 정수의 합은 {sumatob_for(a, b)}입니다.')"
   ]
  },
  {
   "cell_type": "markdown",
   "id": "49abd63e",
   "metadata": {},
   "source": [
    "[Do it 실습 1-10] 1부터 n까지 정수의 합 구하기 - 중간 출력 생성"
   ]
  },
  {
   "cell_type": "code",
   "execution_count": 23,
   "id": "4a8b3de7",
   "metadata": {
    "ExecuteTime": {
     "end_time": "2022-11-27T17:06:39.074814Z",
     "start_time": "2022-11-27T17:06:39.070597Z"
    }
   },
   "outputs": [],
   "source": [
    "def sumatob_verbose1(a, b):\n",
    "    '''a부터 b까지의 정수 합 반환'''\n",
    "    sum_val = 0\n",
    "    \n",
    "    for i in range(a, b+1):\n",
    "        if i < b:\n",
    "            print(f\"{i} + \", end=\"\")\n",
    "        else:\n",
    "            print(f\"{i} = \", end=\"\")\n",
    "        sum_val += i\n",
    "        \n",
    "    print(sum_val)\n",
    "    \n",
    "    return sum_val"
   ]
  },
  {
   "cell_type": "code",
   "execution_count": 24,
   "id": "778210ca",
   "metadata": {
    "ExecuteTime": {
     "end_time": "2022-11-27T17:06:42.296744Z",
     "start_time": "2022-11-27T17:06:39.312753Z"
    }
   },
   "outputs": [
    {
     "name": "stdout",
     "output_type": "stream",
     "text": [
      "a을 입력하세요: 7\n",
      "b을 입력하세요: 3\n",
      "3 + 4 + 5 + 6 + 7 = 25\n",
      "3부터 7까지의 정수의 합은 25입니다.\n"
     ]
    }
   ],
   "source": [
    "a = int(input(\"a을 입력하세요: \"))\n",
    "b = int(input(\"b을 입력하세요: \"))\n",
    "\n",
    "a, b = sortab(a, b)\n",
    "print(f'{a}부터 {b}까지의 정수의 합은 {sumatob_verbose1(a, b)}입니다.')"
   ]
  },
  {
   "cell_type": "markdown",
   "id": "4c08b531",
   "metadata": {},
   "source": [
    "위 반복문에서 else 문은 맨 마지막에 단 1회 실행되기 위해 매회 실행되어야 함. 효율이 좋지 않음. 따라서 '='을 출력하는 마지막 반복문은 분리하는 것이 좋음"
   ]
  },
  {
   "cell_type": "markdown",
   "id": "9312fd6e",
   "metadata": {},
   "source": [
    "[Do it 실습 1-10] 1부터 n까지 정수의 합 구하기 - 중간 출력 생성2"
   ]
  },
  {
   "cell_type": "code",
   "execution_count": 29,
   "id": "e2922565",
   "metadata": {
    "ExecuteTime": {
     "end_time": "2022-11-27T17:10:58.121048Z",
     "start_time": "2022-11-27T17:10:58.117355Z"
    }
   },
   "outputs": [],
   "source": [
    "def sumatob_verbose2(a, b):\n",
    "    '''a부터 b까지의 정수 합 반환'''\n",
    "    sum_val = 0\n",
    "    \n",
    "    for i in range(a, b):\n",
    "        print(f\"{i} + \", end=\"\")\n",
    "        sum_val += i\n",
    "    \n",
    "    print(f\"{b} = \", end=\"\")\n",
    "    sum_val += b\n",
    "    print(sum_val)\n",
    "    \n",
    "    return sum_val"
   ]
  },
  {
   "cell_type": "code",
   "execution_count": 30,
   "id": "a8e1f011",
   "metadata": {
    "ExecuteTime": {
     "end_time": "2022-11-27T17:11:00.321811Z",
     "start_time": "2022-11-27T17:10:58.509473Z"
    }
   },
   "outputs": [
    {
     "name": "stdout",
     "output_type": "stream",
     "text": [
      "a을 입력하세요: 7\n",
      "b을 입력하세요: 3\n",
      "3 + 4 + 5 + 6 + 7 = 25\n",
      "3부터 7까지의 정수의 합은 25입니다.\n"
     ]
    }
   ],
   "source": [
    "a = int(input(\"a을 입력하세요: \"))\n",
    "b = int(input(\"b을 입력하세요: \"))\n",
    "\n",
    "a, b = sortab(a, b)\n",
    "print(f'{a}부터 {b}까지의 정수의 합은 {sumatob_verbose2(a, b)}입니다.')"
   ]
  },
  {
   "cell_type": "markdown",
   "id": "4d126c82",
   "metadata": {},
   "source": [
    "위처럼 개선하면 판단 횟수가 n번에서 0번으로 바뀌고 반복 횟수도 1 감소하여 효율적임."
   ]
  },
  {
   "cell_type": "markdown",
   "id": "a8db63d2",
   "metadata": {},
   "source": [
    "## 반복 과정에서 조건 판단하기 2"
   ]
  },
  {
   "cell_type": "markdown",
   "id": "62212447",
   "metadata": {},
   "source": [
    "[Do it 실습 1-12] +와 -를 번갈아 출력하기"
   ]
  },
  {
   "cell_type": "code",
   "execution_count": 31,
   "id": "59772547",
   "metadata": {
    "ExecuteTime": {
     "end_time": "2022-11-27T17:19:40.255543Z",
     "start_time": "2022-11-27T17:19:40.251994Z"
    }
   },
   "outputs": [],
   "source": [
    "def alternative1(n):\n",
    "    for i in range(n):\n",
    "        if i % 2:\n",
    "            print('-', end='')\n",
    "        else:\n",
    "            print('+', end='')\n",
    "    print()"
   ]
  },
  {
   "cell_type": "code",
   "execution_count": 33,
   "id": "ec9ac093",
   "metadata": {
    "ExecuteTime": {
     "end_time": "2022-11-27T17:20:26.868103Z",
     "start_time": "2022-11-27T17:20:25.227057Z"
    }
   },
   "outputs": [
    {
     "name": "stdout",
     "output_type": "stream",
     "text": [
      "n을 입력하세요: 10\n",
      "+-+-+-+-+-\n",
      "n을 입력하세요: 11\n",
      "+-+-+-+-+-+\n"
     ]
    }
   ],
   "source": [
    "n = int(input(\"n을 입력하세요: \"))\n",
    "alternative1(n)\n",
    "\n",
    "n = int(input(\"n을 입력하세요: \"))\n",
    "alternative1(n)"
   ]
  },
  {
   "cell_type": "markdown",
   "id": "e40dc926",
   "metadata": {
    "ExecuteTime": {
     "end_time": "2022-11-27T17:22:13.275582Z",
     "start_time": "2022-11-27T17:22:13.271912Z"
    }
   },
   "source": [
    "이 때, 출력을 위해서는 n회의 판단 반복이 필요함."
   ]
  },
  {
   "cell_type": "markdown",
   "id": "301f7ad9",
   "metadata": {},
   "source": [
    "[Do it 실습 1-13] +와 -를 번갈아 출력하기 2"
   ]
  },
  {
   "cell_type": "code",
   "execution_count": 37,
   "id": "a61f171c",
   "metadata": {
    "ExecuteTime": {
     "end_time": "2022-11-28T09:43:45.982010Z",
     "start_time": "2022-11-28T09:43:45.973820Z"
    }
   },
   "outputs": [],
   "source": [
    "def alternative1(n):\n",
    "    for _ in range(n//2): # 반복 횟수를 1/2로 줄임\n",
    "        print('+-', end='')\n",
    "    if n % 2: # 조건문은 1회만 실행\n",
    "        print('+', end='')\n",
    "    \n",
    "    print()"
   ]
  },
  {
   "cell_type": "code",
   "execution_count": 38,
   "id": "b2d40730",
   "metadata": {
    "ExecuteTime": {
     "end_time": "2022-11-28T09:43:48.639950Z",
     "start_time": "2022-11-28T09:43:46.952641Z"
    }
   },
   "outputs": [
    {
     "name": "stdout",
     "output_type": "stream",
     "text": [
      "n을 입력하세요: 10\n",
      "+-+-+-+-+-\n",
      "n을 입력하세요: 11\n",
      "+-+-+-+-+-+\n"
     ]
    }
   ],
   "source": [
    "n = int(input(\"n을 입력하세요: \"))\n",
    "alternative1(n)\n",
    "\n",
    "n = int(input(\"n을 입력하세요: \"))\n",
    "alternative1(n)"
   ]
  },
  {
   "cell_type": "markdown",
   "id": "5dce76bd",
   "metadata": {},
   "source": [
    "무시하고 싶은 값은 '_' 언더스코어로 표현함."
   ]
  },
  {
   "cell_type": "markdown",
   "id": "b3b5c1f3",
   "metadata": {},
   "source": [
    "[Do it 실습 1-14] *를 n개 출력하되 w개마다 줄바꿈하기 1"
   ]
  },
  {
   "cell_type": "code",
   "execution_count": 41,
   "id": "e1d1e6e8",
   "metadata": {
    "ExecuteTime": {
     "end_time": "2022-11-28T09:48:56.486143Z",
     "start_time": "2022-11-28T09:48:56.481238Z"
    }
   },
   "outputs": [],
   "source": [
    "def print_stars1(n, w):\n",
    "    for i in range(1, n+1):\n",
    "        print('*', end='')\n",
    "        if i % w == 0:\n",
    "            print()\n",
    "    print()"
   ]
  },
  {
   "cell_type": "code",
   "execution_count": 44,
   "id": "ef06e555",
   "metadata": {
    "ExecuteTime": {
     "end_time": "2022-11-28T09:50:13.965780Z",
     "start_time": "2022-11-28T09:50:12.235034Z"
    }
   },
   "outputs": [
    {
     "name": "stdout",
     "output_type": "stream",
     "text": [
      "n을 입력하세요: 14\n",
      "w을 입력하세요: 5\n",
      "*****\n",
      "*****\n",
      "****\n"
     ]
    }
   ],
   "source": [
    "n = int(input(\"n을 입력하세요: \"))\n",
    "w = int(input(\"w을 입력하세요: \"))\n",
    "print_stars1(n, w)"
   ]
  },
  {
   "cell_type": "code",
   "execution_count": 52,
   "id": "59d285b0",
   "metadata": {
    "ExecuteTime": {
     "end_time": "2022-11-28T10:06:00.350262Z",
     "start_time": "2022-11-28T10:06:00.346791Z"
    }
   },
   "outputs": [],
   "source": [
    "def print_stars1(n, w):\n",
    "    for i in range(n):\n",
    "        print('*', end='')\n",
    "        if i % w == w - 1: # i를 w로 나눈 나머지가 w-1일 때 줄바꿈\n",
    "            print()\n",
    "    if n % w: # w로 나누어 떨어지지 않을 시\n",
    "        print()"
   ]
  },
  {
   "cell_type": "code",
   "execution_count": 53,
   "id": "171bece4",
   "metadata": {
    "ExecuteTime": {
     "end_time": "2022-11-28T10:06:11.826676Z",
     "start_time": "2022-11-28T10:06:00.800962Z"
    }
   },
   "outputs": [
    {
     "name": "stdout",
     "output_type": "stream",
     "text": [
      "n을 입력하세요: 14\n",
      "w을 입력하세요: 5\n",
      "*****\n",
      "*****\n",
      "****\n",
      "n을 입력하세요: 20\n",
      "w을 입력하세요: 4\n",
      "****\n",
      "****\n",
      "****\n",
      "****\n",
      "****\n"
     ]
    }
   ],
   "source": [
    "n = int(input(\"n을 입력하세요: \"))\n",
    "w = int(input(\"w을 입력하세요: \"))\n",
    "print_stars1(n, w)\n",
    "\n",
    "n = int(input(\"n을 입력하세요: \"))\n",
    "w = int(input(\"w을 입력하세요: \"))\n",
    "print_stars1(n, w)"
   ]
  },
  {
   "cell_type": "markdown",
   "id": "03b48441",
   "metadata": {},
   "source": [
    "위처럼 구현한 경우, for 문을 반복할 때마다 if 문을 실행하여 비효율적임."
   ]
  },
  {
   "cell_type": "markdown",
   "id": "3e98eca6",
   "metadata": {},
   "source": [
    "[Do it 실습 1-15] *를 n개 출력하되 w개마다 줄바꿈하기 2"
   ]
  },
  {
   "cell_type": "code",
   "execution_count": 63,
   "id": "89f4e7f8",
   "metadata": {
    "ExecuteTime": {
     "end_time": "2022-11-28T10:10:36.942621Z",
     "start_time": "2022-11-28T10:10:36.939449Z"
    }
   },
   "outputs": [],
   "source": [
    "def print_stars2(n, w):\n",
    "    for i in range(n//w):\n",
    "        print('*' * w)\n",
    "        \n",
    "    rest = n % w\n",
    "    if rest:\n",
    "        print('*' * rest)"
   ]
  },
  {
   "cell_type": "code",
   "execution_count": 64,
   "id": "7b49f734",
   "metadata": {
    "ExecuteTime": {
     "end_time": "2022-11-28T10:10:39.202119Z",
     "start_time": "2022-11-28T10:10:37.241745Z"
    }
   },
   "outputs": [
    {
     "name": "stdout",
     "output_type": "stream",
     "text": [
      "n을 입력하세요: 20\n",
      "w을 입력하세요: 5\n",
      "*****\n",
      "*****\n",
      "*****\n",
      "*****\n"
     ]
    }
   ],
   "source": [
    "n = int(input(\"n을 입력하세요: \"))\n",
    "w = int(input(\"w을 입력하세요: \"))\n",
    "print_stars2(n, w)"
   ]
  },
  {
   "cell_type": "markdown",
   "id": "f05a0d39",
   "metadata": {},
   "source": [
    "위와 같이 코드를 개선하면, 기존에 n회 반복하며 n회의 판단을 수행하였던 것과 달리, n//w회의 반복과 1회의 판단으로 구성되어 코드의 효율이 좋아짐."
   ]
  },
  {
   "cell_type": "markdown",
   "id": "9915c55d",
   "metadata": {},
   "source": [
    "[Do it 실습 1-16] 1부터 n까지 정수의 합 구하기(n값은 양수만 입력받음)"
   ]
  },
  {
   "cell_type": "code",
   "execution_count": 65,
   "id": "2c33e717",
   "metadata": {
    "ExecuteTime": {
     "end_time": "2022-11-28T10:21:40.828592Z",
     "start_time": "2022-11-28T10:21:40.825211Z"
    }
   },
   "outputs": [],
   "source": [
    "def sum1ton_positive(n):\n",
    "    sum_val = 0\n",
    "    for i in range(1, n+1):\n",
    "        sum_val += i\n",
    "    return sum_val"
   ]
  },
  {
   "cell_type": "code",
   "execution_count": 70,
   "id": "c7b05537",
   "metadata": {
    "ExecuteTime": {
     "end_time": "2022-11-28T10:27:03.454952Z",
     "start_time": "2022-11-28T10:26:56.740942Z"
    }
   },
   "outputs": [
    {
     "name": "stdout",
     "output_type": "stream",
     "text": [
      "n을 입력하세요: -1\n",
      "n은 양수만 입력할 수 있습니다.\n",
      "n을 입력하세요: -10\n",
      "n은 양수만 입력할 수 있습니다.\n",
      "n을 입력하세요: 0\n",
      "n은 양수만 입력할 수 있습니다.\n",
      "n을 입력하세요: 10\n"
     ]
    },
    {
     "data": {
      "text/plain": [
       "55"
      ]
     },
     "execution_count": 70,
     "metadata": {},
     "output_type": "execute_result"
    }
   ],
   "source": [
    "while True:\n",
    "    n = int(input(\"n을 입력하세요: \"))\n",
    "    if n > 0:\n",
    "        break\n",
    "    else:\n",
    "        print('n은 양수만 입력할 수 있습니다.')\n",
    "        \n",
    "sum1ton_positive(n)"
   ]
  },
  {
   "cell_type": "markdown",
   "id": "5bbeaf48",
   "metadata": {},
   "source": [
    "위에서 while True는 무한 루프(infinite loop)이며, while 문이 무한으로 반복되도록 의도한 것임. 반복문 내에서 break 문을 실행하면 반복문을 종료할 수 있으며, 사용자가 양수를 입력할 때까지 n을 계속해서 다시 입력받는 구조임.\n",
    "\n",
    "대부분의 프로그래밍 언어에서는 루프 본문을 실행한 뒤, 다음 반복을 계속할 것인지 판단하는 **사후 판단 반복문**을 지원함. 그 예로는 do~while, repeat~until 문 등이 있음. 그러나 파이썬은 이를 제공하지 않으므로 위처럼 break 문을 사용해야만 양수를 입력받는 프로그램을 만들 수 있음"
   ]
  },
  {
   "cell_type": "markdown",
   "id": "c97c0393",
   "metadata": {},
   "source": [
    "[Do it 실습 1-17] 직사각형 넓이로 변의 길이 구하기"
   ]
  },
  {
   "cell_type": "code",
   "execution_count": 75,
   "id": "0f0d5a07",
   "metadata": {
    "ExecuteTime": {
     "end_time": "2022-11-28T10:38:38.893387Z",
     "start_time": "2022-11-28T10:38:38.890130Z"
    }
   },
   "outputs": [],
   "source": [
    "import math\n",
    "\n",
    "def rectangle(area):\n",
    "    for i in range(1, int(math.sqrt(area)) + 1):\n",
    "        if not area % i:\n",
    "            print(f'{i} x {n//i}')"
   ]
  },
  {
   "cell_type": "code",
   "execution_count": 76,
   "id": "bf938730",
   "metadata": {
    "ExecuteTime": {
     "end_time": "2022-11-28T10:38:41.935540Z",
     "start_time": "2022-11-28T10:38:39.671102Z"
    }
   },
   "outputs": [
    {
     "name": "stdout",
     "output_type": "stream",
     "text": [
      "n을 입력하세요: 32\n",
      "1 x 32\n",
      "2 x 16\n",
      "4 x 8\n"
     ]
    }
   ],
   "source": [
    "n = int(input(\"n을 입력하세요: \"))\n",
    "rectangle(n)"
   ]
  },
  {
   "cell_type": "markdown",
   "id": "0b9a3cc9",
   "metadata": {},
   "source": [
    "[Do it 실습 1-18] 10~99 사이의 난수 n개 생성하기(13이 나오면 중단)"
   ]
  },
  {
   "cell_type": "code",
   "execution_count": 84,
   "id": "f3843c47",
   "metadata": {
    "ExecuteTime": {
     "end_time": "2022-11-28T10:46:08.832079Z",
     "start_time": "2022-11-28T10:46:08.828727Z"
    }
   },
   "outputs": [],
   "source": [
    "import random\n",
    "\n",
    "def for_else(n):\n",
    "    for _ in range(n):\n",
    "        randint = random.randrange(10, 99)\n",
    "        print(randint, end=' ')\n",
    "        if randint == 13:\n",
    "            print('\\n프로그램을 중단합니다.')\n",
    "            break\n",
    "    else:\n",
    "        print('\\n난수 생성을 종료합니다.')"
   ]
  },
  {
   "cell_type": "code",
   "execution_count": 86,
   "id": "8c6fe05e",
   "metadata": {
    "ExecuteTime": {
     "end_time": "2022-11-28T10:46:16.615544Z",
     "start_time": "2022-11-28T10:46:15.309913Z"
    }
   },
   "outputs": [
    {
     "name": "stdout",
     "output_type": "stream",
     "text": [
      "난수의 개수를 입력하세요: 3\n",
      "35 10 94 \n",
      "난수 생성을 종료합니다.\n"
     ]
    }
   ],
   "source": [
    "n = int(input(\"난수의 개수를 입력하세요: \"))\n",
    "for_else(n)"
   ]
  },
  {
   "cell_type": "markdown",
   "id": "c5f5437f",
   "metadata": {},
   "source": [
    "[Do it 실습 1-19] 1~12까지 8을 건너뛰고 출력하기"
   ]
  },
  {
   "cell_type": "code",
   "execution_count": 88,
   "id": "98aaf9ef",
   "metadata": {
    "ExecuteTime": {
     "end_time": "2022-11-28T10:47:48.832820Z",
     "start_time": "2022-11-28T10:47:48.829363Z"
    }
   },
   "outputs": [
    {
     "name": "stdout",
     "output_type": "stream",
     "text": [
      "1 2 3 4 5 6 7 9 10 11 12 \n"
     ]
    }
   ],
   "source": [
    "for i in range(1, 13):\n",
    "    if i == 8:\n",
    "        continue\n",
    "    else:\n",
    "        print(i, end=' ')\n",
    "\n",
    "print()"
   ]
  },
  {
   "cell_type": "markdown",
   "id": "57cb6a27",
   "metadata": {
    "ExecuteTime": {
     "end_time": "2022-11-28T10:54:32.676517Z",
     "start_time": "2022-11-28T10:54:32.672421Z"
    }
   },
   "source": [
    "이 프로그램은 i가 8일 때 건너뛰기 위하여, 판단을 n회 반복해야 하므로 비효율적임."
   ]
  },
  {
   "cell_type": "markdown",
   "id": "9c12fd23",
   "metadata": {},
   "source": [
    "[Do it 실습 1-19] 1~12까지 8을 건너뛰고 출력하기2"
   ]
  },
  {
   "cell_type": "code",
   "execution_count": 91,
   "id": "893537be",
   "metadata": {
    "ExecuteTime": {
     "end_time": "2022-11-28T10:55:17.899976Z",
     "start_time": "2022-11-28T10:55:17.896367Z"
    }
   },
   "outputs": [
    {
     "name": "stdout",
     "output_type": "stream",
     "text": [
      "1 2 3 4 5 6 7 9 10 11 12 \n"
     ]
    }
   ],
   "source": [
    "for i in list(range(1, 8)) + list(range(9, 13)):\n",
    "    print(i, end=' ')\n",
    "\n",
    "print()"
   ]
  },
  {
   "cell_type": "markdown",
   "id": "80a94c2e",
   "metadata": {},
   "source": [
    "위와 같이 개선하여도 반복을 위한 연산 비용은 여전히 발생한다고 함."
   ]
  },
  {
   "cell_type": "markdown",
   "id": "11d78de6",
   "metadata": {},
   "source": [
    "[Do it 실습 1C-3] 2자리 양수 입력 받기1"
   ]
  },
  {
   "cell_type": "code",
   "execution_count": 93,
   "id": "6c4c0f5e",
   "metadata": {
    "ExecuteTime": {
     "end_time": "2022-11-28T12:01:30.422529Z",
     "start_time": "2022-11-28T12:01:23.321798Z"
    }
   },
   "outputs": [
    {
     "name": "stdout",
     "output_type": "stream",
     "text": [
      "2자리 양수 값을 입력하세요.: 1\n",
      "2자리 양수 값을 입력하세요.: 8\n",
      "2자리 양수 값을 입력하세요.: 100\n",
      "2자리 양수 값을 입력하세요.: 99\n",
      "입력받은 양수는 99입니다\n"
     ]
    }
   ],
   "source": [
    "while True:\n",
    "    no = int(input(\"2자리 양수 값을 입력하세요.: \"))\n",
    "    if no >= 10 and no < 100:\n",
    "        break\n",
    "        \n",
    "print(f'입력받은 양수는 {no}입니다')"
   ]
  },
  {
   "cell_type": "markdown",
   "id": "bfaab5eb",
   "metadata": {},
   "source": [
    "[Do it 실습 1C-3] 2자리 양수 입력 받기2 (비교 연산자를 연속으로 사용한 방법)"
   ]
  },
  {
   "cell_type": "code",
   "execution_count": 94,
   "id": "72b7b185",
   "metadata": {
    "ExecuteTime": {
     "end_time": "2022-11-28T12:02:19.717614Z",
     "start_time": "2022-11-28T12:02:14.366564Z"
    }
   },
   "outputs": [
    {
     "name": "stdout",
     "output_type": "stream",
     "text": [
      "2자리 양수 값을 입력하세요.: 2\n",
      "2자리 양수 값을 입력하세요.: 8\n",
      "2자리 양수 값을 입력하세요.: 100\n",
      "2자리 양수 값을 입력하세요.: 99\n",
      "입력받은 양수는 99입니다\n"
     ]
    }
   ],
   "source": [
    "while True:\n",
    "    no = int(input(\"2자리 양수 값을 입력하세요.: \"))\n",
    "    if 10 <= no < 100:\n",
    "        break\n",
    "        \n",
    "print(f'입력받은 양수는 {no}입니다')"
   ]
  },
  {
   "cell_type": "markdown",
   "id": "448113a4",
   "metadata": {},
   "source": [
    "위 방법은 원래는 지원하지 않았던 것 같은데, 이제 파이썬에서 지원하는 것으로 보임"
   ]
  },
  {
   "cell_type": "markdown",
   "id": "51652abc",
   "metadata": {},
   "source": [
    "[Do it 실습 1C-3] 2자리 양수 입력 받기3 (드모르간 법칙을 사용한 방법)"
   ]
  },
  {
   "cell_type": "code",
   "execution_count": 95,
   "id": "499d2c0b",
   "metadata": {
    "ExecuteTime": {
     "end_time": "2022-11-28T12:05:28.923433Z",
     "start_time": "2022-11-28T12:05:22.545720Z"
    }
   },
   "outputs": [
    {
     "name": "stdout",
     "output_type": "stream",
     "text": [
      "2자리 양수 값을 입력하세요.: 1\n",
      "2자리 양수 값을 입력하세요.: 9\n",
      "2자리 양수 값을 입력하세요.: 999\n",
      "2자리 양수 값을 입력하세요.: 99\n",
      "입력받은 양수는 99입니다\n"
     ]
    }
   ],
   "source": [
    "while True:\n",
    "    no = int(input(\"2자리 양수 값을 입력하세요.: \"))\n",
    "    if not (no < 10 or no > 99):\n",
    "        break\n",
    "        \n",
    "print(f'입력받은 양수는 {no}입니다')"
   ]
  },
  {
   "cell_type": "markdown",
   "id": "be293bdc",
   "metadata": {},
   "source": [
    "**드모르간 법칙** 이란 각 조건을 부정하고 논리곱을 논리합으로, 논리합을 논리곱으로 바꾸고 다시 전체를 부정하면 원래의 조건과 같다는 법칙임."
   ]
  },
  {
   "cell_type": "markdown",
   "id": "3f4c42d5",
   "metadata": {},
   "source": [
    "## 다중 루프 알아보기\n",
    "\n",
    "[Do it 실습 1-21] 구구단 곱셈표 출력하기"
   ]
  },
  {
   "cell_type": "code",
   "execution_count": 101,
   "id": "42da4fba",
   "metadata": {
    "ExecuteTime": {
     "end_time": "2022-11-28T12:43:20.458361Z",
     "start_time": "2022-11-28T12:43:20.453107Z"
    }
   },
   "outputs": [
    {
     "name": "stdout",
     "output_type": "stream",
     "text": [
      "---------------------------\n",
      "  1  2  3  4  5  6  7  8  9\n",
      "  2  4  6  8 10 12 14 16 18\n",
      "  3  6  9 12 15 18 21 24 27\n",
      "  4  8 12 16 20 24 28 32 36\n",
      "  5 10 15 20 25 30 35 40 45\n",
      "  6 12 18 24 30 36 42 48 54\n",
      "  7 14 21 28 35 42 49 56 63\n",
      "  8 16 24 32 40 48 56 64 72\n",
      "  9 18 27 36 45 54 63 72 81\n",
      "---------------------------\n"
     ]
    }
   ],
   "source": [
    "print('-' * 27)\n",
    "for i in range(1, 10):\n",
    "    for j in range(1, 10):\n",
    "        print(f'{i * j:3}', end='') # i*j:3은 세 자리로 출력하라는 뜻임\n",
    "    print() # 개행\n",
    "\n",
    "print('-' * 27)"
   ]
  },
  {
   "cell_type": "markdown",
   "id": "cdaa6430",
   "metadata": {},
   "source": [
    "[Do it 실습 1-22] 직각 이등변 삼각형으로 출력하기"
   ]
  },
  {
   "cell_type": "code",
   "execution_count": 103,
   "id": "b6c5921c",
   "metadata": {
    "ExecuteTime": {
     "end_time": "2022-11-28T12:48:14.982263Z",
     "start_time": "2022-11-28T12:48:13.382052Z"
    }
   },
   "outputs": [
    {
     "name": "stdout",
     "output_type": "stream",
     "text": [
      "왼쪽 아래가 직각인 이등변 삼각형을 출력합니다.\n",
      "짧은 변의 길이를 입력하세요.: 5\n",
      "*\n",
      "**\n",
      "***\n",
      "****\n",
      "*****\n"
     ]
    }
   ],
   "source": [
    "print(\"왼쪽 아래가 직각인 이등변 삼각형을 출력합니다.\")\n",
    "n = int(input(\"짧은 변의 길이를 입력하세요.: \"))\n",
    "\n",
    "for i in range(n):\n",
    "    print('*' * (i + 1))"
   ]
  },
  {
   "cell_type": "code",
   "execution_count": 115,
   "id": "1ab14f20",
   "metadata": {
    "ExecuteTime": {
     "end_time": "2022-11-28T12:52:42.393793Z",
     "start_time": "2022-11-28T12:52:07.252914Z"
    }
   },
   "outputs": [
    {
     "name": "stdout",
     "output_type": "stream",
     "text": [
      "왼쪽 아래가 직각인 이등변 삼각형을 출력합니다.\n",
      "짧은 변의 길이를 입력하세요.: 5\n",
      "*\n",
      "**\n",
      "***\n",
      "****\n",
      "*****\n"
     ]
    }
   ],
   "source": [
    "print(\"왼쪽 아래가 직각인 이등변 삼각형을 출력합니다.\")\n",
    "n = int(input(\"짧은 변의 길이를 입력하세요.: \"))\n",
    "\n",
    "for i in range(n):\n",
    "    for _ in range(i+1):\n",
    "        print('*', end='')\n",
    "    print()"
   ]
  },
  {
   "cell_type": "markdown",
   "id": "006c4981",
   "metadata": {},
   "source": [
    "[Do it 실습 1-22] 직각 이등변 삼각형으로 출력하기 (오른쪽 아래가 직각인 이등변 삼각형)"
   ]
  },
  {
   "cell_type": "code",
   "execution_count": 109,
   "id": "22126f7d",
   "metadata": {
    "ExecuteTime": {
     "end_time": "2022-11-28T12:50:34.047285Z",
     "start_time": "2022-11-28T12:50:31.497847Z"
    }
   },
   "outputs": [
    {
     "name": "stdout",
     "output_type": "stream",
     "text": [
      "왼쪽 아래가 직각인 이등변 삼각형을 출력합니다.\n",
      "짧은 변의 길이를 입력하세요.: 5\n",
      "      *\n",
      "     **\n",
      "    ***\n",
      "   ****\n",
      "  *****\n"
     ]
    }
   ],
   "source": [
    "print(\"왼쪽 아래가 직각인 이등변 삼각형을 출력합니다.\")\n",
    "n = int(input(\"짧은 변의 길이를 입력하세요.: \"))\n",
    "\n",
    "for i in range(n):\n",
    "    print(' ' * (n - i + 1), end='')\n",
    "    print('*' * (i + 1))"
   ]
  },
  {
   "cell_type": "code",
   "execution_count": 113,
   "id": "7100623c",
   "metadata": {
    "ExecuteTime": {
     "end_time": "2022-11-28T12:51:58.413975Z",
     "start_time": "2022-11-28T12:51:57.412828Z"
    }
   },
   "outputs": [
    {
     "name": "stdout",
     "output_type": "stream",
     "text": [
      "왼쪽 아래가 직각인 이등변 삼각형을 출력합니다.\n",
      "짧은 변의 길이를 입력하세요.: 5\n",
      "      *\n",
      "     **\n",
      "    ***\n",
      "   ****\n",
      "  *****\n"
     ]
    }
   ],
   "source": [
    "print(\"왼쪽 아래가 직각인 이등변 삼각형을 출력합니다.\")\n",
    "n = int(input(\"짧은 변의 길이를 입력하세요.: \"))\n",
    "\n",
    "for i in range(n):\n",
    "    for _ in range(n-i+1):\n",
    "        print(' ', end='')\n",
    "    for _ in range(i+1):\n",
    "        print('*', end='')\n",
    "    print()"
   ]
  },
  {
   "cell_type": "markdown",
   "id": "d6b6d322",
   "metadata": {},
   "source": [
    "파이썬의 변수는 객체의 identity에 연결된 이름에 불과함. 변수 자체가 값을 가지지 않음. 모든 객체는 메모리를 차지하고, 자료형, 식별 번호(identity)를 가짐"
   ]
  },
  {
   "cell_type": "code",
   "execution_count": 116,
   "id": "ec640ef3",
   "metadata": {
    "ExecuteTime": {
     "end_time": "2022-11-28T12:56:00.556901Z",
     "start_time": "2022-11-28T12:56:00.552752Z"
    }
   },
   "outputs": [
    {
     "data": {
      "text/plain": [
       "(140585285643056, 140585285643056)"
      ]
     },
     "execution_count": 116,
     "metadata": {},
     "output_type": "execute_result"
    }
   ],
   "source": [
    "n = 17\n",
    "id(17), id(n)"
   ]
  },
  {
   "cell_type": "markdown",
   "id": "6c680b60",
   "metadata": {},
   "source": [
    "[Do it 실습 1C-4] 함수 내부/외부에서 정의한 변수와 객체의 식별 번호를 출력하기"
   ]
  },
  {
   "cell_type": "code",
   "execution_count": 123,
   "id": "a1eeec44",
   "metadata": {
    "ExecuteTime": {
     "end_time": "2022-11-28T12:59:02.782751Z",
     "start_time": "2022-11-28T12:59:02.777990Z"
    }
   },
   "outputs": [
    {
     "name": "stdout",
     "output_type": "stream",
     "text": [
      "id(1) = 140585285642544\n",
      "id(n) = 140585285642544\n",
      "id(x) = 140585285642544\n"
     ]
    }
   ],
   "source": [
    "n = 1\n",
    "def put_id():\n",
    "    x = 1\n",
    "    print(f'id(x) = {id(x)}')\n",
    "\n",
    "print(f'id(1) = {id(1)}')\n",
    "print(f'id(n) = {id(n)}')\n",
    "put_id()"
   ]
  },
  {
   "cell_type": "markdown",
   "id": "ba26cb85",
   "metadata": {},
   "source": [
    "함수 내 외부이든 상관 없이, 1이 가지는 id 자체는 같구나"
   ]
  },
  {
   "cell_type": "code",
   "execution_count": 124,
   "id": "6b7b2f3e",
   "metadata": {
    "ExecuteTime": {
     "end_time": "2022-11-28T12:59:03.599974Z",
     "start_time": "2022-11-28T12:59:03.596630Z"
    }
   },
   "outputs": [
    {
     "name": "stdout",
     "output_type": "stream",
     "text": [
      "id(x) = 140585285642544\n",
      "id(1) = 140585285642544\n"
     ]
    }
   ],
   "source": [
    "del n\n",
    "\n",
    "put_id()\n",
    "\n",
    "print(f'id(1) = {id(1)}')"
   ]
  },
  {
   "cell_type": "code",
   "execution_count": 129,
   "id": "a4b10b41",
   "metadata": {
    "ExecuteTime": {
     "end_time": "2022-11-28T12:59:47.232026Z",
     "start_time": "2022-11-28T12:59:47.228137Z"
    }
   },
   "outputs": [
    {
     "name": "stdout",
     "output_type": "stream",
     "text": [
      "id(x) = 140585285642544\n",
      "id(1) = 140585285642544\n"
     ]
    }
   ],
   "source": [
    "def put_id():\n",
    "    x = 1\n",
    "    print(f'id(x) = {id(x)}')\n",
    "    del x\n",
    "    \n",
    "put_id()\n",
    "print(f'id(1) = {id(1)}')"
   ]
  },
  {
   "cell_type": "markdown",
   "id": "2173b616",
   "metadata": {},
   "source": [
    "아하... 파이썬에서는 함수가 시작하고 종료함에 따라 객체가 생성되거나 소멸하지 않음. 그래서 함수 내에서 객체가 생성되면, 함수가 종료되더라도 객체는 남아있고, 변수는 함수를 통해 생성된 객체를 참조할 수 있게 됨."
   ]
  },
  {
   "cell_type": "markdown",
   "id": "fa90b189",
   "metadata": {},
   "source": [
    "# 마치며\n",
    "\n",
    "Do it 자료구조와 함께 배우는 알고리즘 입문의 chapter 1에 대한 학습과 코드 수행을 종료. 파이썬을 처음 배웠을 때 알았던 개념을 다시 되뇌이는 시간이었고, 오랜만에 실무와 관련없는 단순하지만 중요한 알고리즘을 짜보는 시간이어 좋았음. 앞으로 나머지 챕터도 수행하며, 복습과 새로운 개념을 익히는 시간을 계속해서 가질 수 있기를..."
   ]
  }
 ],
 "metadata": {
  "kernelspec": {
   "display_name": "tsa-py3.9",
   "language": "python",
   "name": "tsa"
  },
  "language_info": {
   "codemirror_mode": {
    "name": "ipython",
    "version": 3
   },
   "file_extension": ".py",
   "mimetype": "text/x-python",
   "name": "python",
   "nbconvert_exporter": "python",
   "pygments_lexer": "ipython3",
   "version": "3.9.0"
  }
 },
 "nbformat": 4,
 "nbformat_minor": 5
}
