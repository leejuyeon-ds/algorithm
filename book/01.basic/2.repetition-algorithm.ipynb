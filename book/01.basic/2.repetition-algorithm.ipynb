{
 "cells": [
  {
   "cell_type": "markdown",
   "id": "0b328427",
   "metadata": {},
   "source": [
    "# 반복하는 알고리즘"
   ]
  },
  {
   "cell_type": "markdown",
   "id": "e286604e",
   "metadata": {},
   "source": [
    "[Do it 실습 1-7] 1부터 n까지 정수의 합 구하기 1(while 문)"
   ]
  },
  {
   "cell_type": "code",
   "execution_count": 2,
   "id": "f0eae0cc",
   "metadata": {
    "ExecuteTime": {
     "end_time": "2022-11-27T16:45:01.475335Z",
     "start_time": "2022-11-27T16:45:01.472059Z"
    }
   },
   "outputs": [],
   "source": [
    "def sum1ton_while(n):\n",
    "    '''1부터 n까지의 정수 합 반환'''\n",
    "    sum_val = 0\n",
    "    i = 1\n",
    "    \n",
    "    while i <= n:\n",
    "        sum_val += i\n",
    "        i += 1\n",
    "        \n",
    "    return sum_val"
   ]
  },
  {
   "cell_type": "code",
   "execution_count": 4,
   "id": "84d1035c",
   "metadata": {
    "ExecuteTime": {
     "end_time": "2022-11-27T16:45:09.516752Z",
     "start_time": "2022-11-27T16:45:08.269544Z"
    }
   },
   "outputs": [
    {
     "name": "stdout",
     "output_type": "stream",
     "text": [
      "n을 입력하세요: 5\n",
      "1부터 5까지의 정수의 합은 15입니다.\n"
     ]
    }
   ],
   "source": [
    "n = int(input(\"n을 입력하세요: \"))\n",
    "print(f'1부터 {n}까지의 정수의 합은 {sum1ton_while(n)}입니다.')"
   ]
  },
  {
   "cell_type": "markdown",
   "id": "d354a750",
   "metadata": {},
   "source": [
    "어떤 조건이 성립하는 동안 반복해서 처리하는 것을 **반복 구조(repitition structure)** 라고 하며, 일반적으로는 루프(loop)라고 함. 특히 while 문은 실행 하기 전에 반복을 계속할 것인지를 판단하는 사전 판단 반복 구조임. \n",
    "\n",
    "위 루프에서 카운터용 변수인 i는 n을 초과하게 됨. 초과해야 반복문에서 벗어나기 때문."
   ]
  },
  {
   "cell_type": "markdown",
   "id": "93d4a03c",
   "metadata": {},
   "source": [
    "[Do it 실습 1-8] 1부터 n까지 정수의 합 구하기 1(for 문)"
   ]
  },
  {
   "cell_type": "code",
   "execution_count": 5,
   "id": "b61748c6",
   "metadata": {
    "ExecuteTime": {
     "end_time": "2022-11-27T16:49:50.731610Z",
     "start_time": "2022-11-27T16:49:50.728393Z"
    }
   },
   "outputs": [],
   "source": [
    "def sum1ton_for(n):\n",
    "    '''1부터 n까지의 정수 합 반환'''\n",
    "    sum_val = 0\n",
    "    \n",
    "    for i in range(1, n+1):\n",
    "        sum_val += i\n",
    "        \n",
    "    return sum_val"
   ]
  },
  {
   "cell_type": "code",
   "execution_count": 6,
   "id": "01e1d153",
   "metadata": {
    "ExecuteTime": {
     "end_time": "2022-11-27T16:49:58.695556Z",
     "start_time": "2022-11-27T16:49:55.283640Z"
    }
   },
   "outputs": [
    {
     "name": "stdout",
     "output_type": "stream",
     "text": [
      "n을 입력하세요: 5\n",
      "1부터 5까지의 정수의 합은 15입니다.\n"
     ]
    }
   ],
   "source": [
    "n = int(input(\"n을 입력하세요: \"))\n",
    "print(f'1부터 {n}까지의 정수의 합은 {sum1ton_for(n)}입니다.')"
   ]
  },
  {
   "cell_type": "markdown",
   "id": "e7f31735",
   "metadata": {},
   "source": [
    "변수가 하나일 때에는 while 문보다는 for 문을 사용하는 것이 좋다고 함."
   ]
  },
  {
   "cell_type": "markdown",
   "id": "3f558e01",
   "metadata": {
    "ExecuteTime": {
     "end_time": "2022-11-27T16:53:51.720324Z",
     "start_time": "2022-11-27T16:53:51.716151Z"
    }
   },
   "source": [
    "[추가] 1부터 n까지 정수의 합은 가우스 덧셈으로도 구할 수 있음"
   ]
  },
  {
   "cell_type": "code",
   "execution_count": 12,
   "id": "911580ef",
   "metadata": {
    "ExecuteTime": {
     "end_time": "2022-11-27T16:54:34.844034Z",
     "start_time": "2022-11-27T16:54:34.841505Z"
    }
   },
   "outputs": [],
   "source": [
    "def sum1ton_gauss(n):\n",
    "    return n * (n + 1) // 2"
   ]
  },
  {
   "cell_type": "code",
   "execution_count": 13,
   "id": "7d218760",
   "metadata": {
    "ExecuteTime": {
     "end_time": "2022-11-27T16:54:37.339651Z",
     "start_time": "2022-11-27T16:54:35.189167Z"
    }
   },
   "outputs": [
    {
     "name": "stdout",
     "output_type": "stream",
     "text": [
      "n을 입력하세요: 5\n",
      "1부터 5까지의 정수의 합은 15입니다.\n"
     ]
    }
   ],
   "source": [
    "n = int(input(\"n을 입력하세요: \"))\n",
    "print(f'1부터 {n}까지의 정수의 합은 {sum1ton_gauss(n)}입니다.')"
   ]
  },
  {
   "cell_type": "markdown",
   "id": "3015a367",
   "metadata": {},
   "source": [
    "반복할 수 있는 객체를 **이터러블 객체** 라고 하며, 대표적인 이터러블 자료형으로는 list, str, tuple이 있음. range를 통해서 이터러블 객체를 생성할 수 있으며, 이 range의 경우, step을 지정하여 생성해줄 수도 있음. \n",
    "\n",
    "```range(a, b, step)```"
   ]
  },
  {
   "cell_type": "code",
   "execution_count": 14,
   "id": "e8b3b820",
   "metadata": {
    "ExecuteTime": {
     "end_time": "2022-11-27T16:59:29.263659Z",
     "start_time": "2022-11-27T16:59:29.259361Z"
    }
   },
   "outputs": [],
   "source": [
    "def sortab(a, b):\n",
    "    '''a와 b를 오름차순으로 정렬'''\n",
    "    if a > b:\n",
    "        a, b = b, a\n",
    "        \n",
    "    return a, b\n",
    "\n",
    "def sumatob_for(a, b):\n",
    "    '''a부터 b까지의 정수 합 반환'''\n",
    "    sum_val = 0\n",
    "    \n",
    "    for i in range(a, b+1):\n",
    "        sum_val += i\n",
    "        \n",
    "    return sum_val"
   ]
  },
  {
   "cell_type": "code",
   "execution_count": 18,
   "id": "6199445f",
   "metadata": {
    "ExecuteTime": {
     "end_time": "2022-11-27T17:00:40.371610Z",
     "start_time": "2022-11-27T17:00:37.835441Z"
    }
   },
   "outputs": [
    {
     "name": "stdout",
     "output_type": "stream",
     "text": [
      "a을 입력하세요: 8\n",
      "b을 입력하세요: 3\n",
      "3부터 8까지의 정수의 합은 33입니다.\n"
     ]
    }
   ],
   "source": [
    "a = int(input(\"a을 입력하세요: \"))\n",
    "b = int(input(\"b을 입력하세요: \"))\n",
    "\n",
    "a, b = sortab(a, b)\n",
    "print(f'{a}부터 {b}까지의 정수의 합은 {sumatob_for(a, b)}입니다.')"
   ]
  },
  {
   "cell_type": "markdown",
   "id": "88312af1",
   "metadata": {},
   "source": [
    "[Do it 실습 1-10] 1부터 n까지 정수의 합 구하기 - 중간 출력 생성"
   ]
  },
  {
   "cell_type": "code",
   "execution_count": 23,
   "id": "8284b5d9",
   "metadata": {
    "ExecuteTime": {
     "end_time": "2022-11-27T17:06:39.074814Z",
     "start_time": "2022-11-27T17:06:39.070597Z"
    }
   },
   "outputs": [],
   "source": [
    "def sumatob_verbose1(a, b):\n",
    "    '''a부터 b까지의 정수 합 반환'''\n",
    "    sum_val = 0\n",
    "    \n",
    "    for i in range(a, b+1):\n",
    "        if i < b:\n",
    "            print(f\"{i} + \", end=\"\")\n",
    "        else:\n",
    "            print(f\"{i} = \", end=\"\")\n",
    "        sum_val += i\n",
    "        \n",
    "    print(sum_val)\n",
    "    \n",
    "    return sum_val"
   ]
  },
  {
   "cell_type": "code",
   "execution_count": 24,
   "id": "b5ca744a",
   "metadata": {
    "ExecuteTime": {
     "end_time": "2022-11-27T17:06:42.296744Z",
     "start_time": "2022-11-27T17:06:39.312753Z"
    }
   },
   "outputs": [
    {
     "name": "stdout",
     "output_type": "stream",
     "text": [
      "a을 입력하세요: 7\n",
      "b을 입력하세요: 3\n",
      "3 + 4 + 5 + 6 + 7 = 25\n",
      "3부터 7까지의 정수의 합은 25입니다.\n"
     ]
    }
   ],
   "source": [
    "a = int(input(\"a을 입력하세요: \"))\n",
    "b = int(input(\"b을 입력하세요: \"))\n",
    "\n",
    "a, b = sortab(a, b)\n",
    "print(f'{a}부터 {b}까지의 정수의 합은 {sumatob_verbose1(a, b)}입니다.')"
   ]
  },
  {
   "cell_type": "markdown",
   "id": "05bfc5c1",
   "metadata": {},
   "source": [
    "위 반복문에서 else 문은 맨 마지막에 단 1회 실행되기 위해 매회 실행되어야 함. 효율이 좋지 않음. 따라서 '='을 출력하는 마지막 반복문은 분리하는 것이 좋음"
   ]
  },
  {
   "cell_type": "markdown",
   "id": "7f0fe6d4",
   "metadata": {},
   "source": [
    "[Do it 실습 1-10] 1부터 n까지 정수의 합 구하기 - 중간 출력 생성2"
   ]
  },
  {
   "cell_type": "code",
   "execution_count": 29,
   "id": "55002c3c",
   "metadata": {
    "ExecuteTime": {
     "end_time": "2022-11-27T17:10:58.121048Z",
     "start_time": "2022-11-27T17:10:58.117355Z"
    }
   },
   "outputs": [],
   "source": [
    "def sumatob_verbose2(a, b):\n",
    "    '''a부터 b까지의 정수 합 반환'''\n",
    "    sum_val = 0\n",
    "    \n",
    "    for i in range(a, b):\n",
    "        print(f\"{i} + \", end=\"\")\n",
    "        sum_val += i\n",
    "    \n",
    "    print(f\"{b} = \", end=\"\")\n",
    "    sum_val += b\n",
    "    print(sum_val)\n",
    "    \n",
    "    return sum_val"
   ]
  },
  {
   "cell_type": "code",
   "execution_count": 30,
   "id": "b1f1f37d",
   "metadata": {
    "ExecuteTime": {
     "end_time": "2022-11-27T17:11:00.321811Z",
     "start_time": "2022-11-27T17:10:58.509473Z"
    }
   },
   "outputs": [
    {
     "name": "stdout",
     "output_type": "stream",
     "text": [
      "a을 입력하세요: 7\n",
      "b을 입력하세요: 3\n",
      "3 + 4 + 5 + 6 + 7 = 25\n",
      "3부터 7까지의 정수의 합은 25입니다.\n"
     ]
    }
   ],
   "source": [
    "a = int(input(\"a을 입력하세요: \"))\n",
    "b = int(input(\"b을 입력하세요: \"))\n",
    "\n",
    "a, b = sortab(a, b)\n",
    "print(f'{a}부터 {b}까지의 정수의 합은 {sumatob_verbose2(a, b)}입니다.')"
   ]
  },
  {
   "cell_type": "markdown",
   "id": "83da0203",
   "metadata": {},
   "source": [
    "위처럼 개선하면 판단 횟수가 n번에서 0번으로 바뀌고 반복 횟수도 1 감소하여 효율적임."
   ]
  },
  {
   "cell_type": "markdown",
   "id": "13954280",
   "metadata": {},
   "source": [
    "## 반복 과정에서 조건 판단하기 2"
   ]
  },
  {
   "cell_type": "markdown",
   "id": "f05bbe00",
   "metadata": {},
   "source": [
    "[Do it 실습 1-12] +와 -를 번갈아 출력하기"
   ]
  },
  {
   "cell_type": "code",
   "execution_count": 31,
   "id": "b5bfa728",
   "metadata": {
    "ExecuteTime": {
     "end_time": "2022-11-27T17:19:40.255543Z",
     "start_time": "2022-11-27T17:19:40.251994Z"
    }
   },
   "outputs": [],
   "source": [
    "def alternative1(n):\n",
    "    for i in range(n):\n",
    "        if i % 2:\n",
    "            print('-', end='')\n",
    "        else:\n",
    "            print('+', end='')\n",
    "    print()"
   ]
  },
  {
   "cell_type": "code",
   "execution_count": 33,
   "id": "459df73c",
   "metadata": {
    "ExecuteTime": {
     "end_time": "2022-11-27T17:20:26.868103Z",
     "start_time": "2022-11-27T17:20:25.227057Z"
    }
   },
   "outputs": [
    {
     "name": "stdout",
     "output_type": "stream",
     "text": [
      "n을 입력하세요: 10\n",
      "+-+-+-+-+-\n",
      "n을 입력하세요: 11\n",
      "+-+-+-+-+-+\n"
     ]
    }
   ],
   "source": [
    "n = int(input(\"n을 입력하세요: \"))\n",
    "alternative1(n)\n",
    "\n",
    "n = int(input(\"n을 입력하세요: \"))\n",
    "alternative1(n)"
   ]
  },
  {
   "cell_type": "code",
   "execution_count": null,
   "id": "d4ca5f42",
   "metadata": {},
   "outputs": [],
   "source": [
    "이 때, 출력을 위해서는 n회의 판단 반복이 필요함."
   ]
  }
 ],
 "metadata": {
  "kernelspec": {
   "display_name": "tsa-py3.9",
   "language": "python",
   "name": "tsa"
  },
  "language_info": {
   "codemirror_mode": {
    "name": "ipython",
    "version": 3
   },
   "file_extension": ".py",
   "mimetype": "text/x-python",
   "name": "python",
   "nbconvert_exporter": "python",
   "pygments_lexer": "ipython3",
   "version": "3.9.0"
  }
 },
 "nbformat": 4,
 "nbformat_minor": 5
}
