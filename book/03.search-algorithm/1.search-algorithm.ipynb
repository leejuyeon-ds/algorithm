{
 "cells": [
  {
   "cell_type": "markdown",
   "id": "d8e18f82",
   "metadata": {},
   "source": [
    "# 검색 알고리즘이란?"
   ]
  },
  {
   "cell_type": "markdown",
   "id": "6b6ea1bc",
   "metadata": {},
   "source": [
    "주소록을 검색한다고 했을 때, 다음과 같이 다양한 검색 조건이 있음.\n",
    "\n",
    "> - 국적이 한국인 사람\n",
    "> - 나이가 21세 이상 27세 미만인 사람\n",
    "> - 이름에 '민'자가 들어간 사람\n",
    "\n",
    "위 검색 조건은 국적, 나이, 이름이라는 항목에 주목하고 있는데, 이를 **키(key)**라고 함. 대부분의 키는 데이터의 일부임.\n",
    "\n",
    "검색의 종류\n",
    "\n",
    "알고리즘에는 다양한 검색 방법이 있지만, 여기서는 크게 3가지의 알고리즘을 언급\n",
    "\n",
    "1. 배열 검색\n",
    "2. 연결 리스트 검색\n",
    "3. 이진 검색 트리 검색\n",
    "\n",
    "여기서 2번 연결 리스트 검색은 8장, 3번 이진 검색은 9장에서 학습 예정. 현 3장에서 배울 내용은 1. 배열 검색이며, 크게 세 가지 알고리즘이 있음.\n",
    "\n",
    "1. 선형 검색: 무작위로 늘어놓은 데이터 집합에서 검색 수행\n",
    "2. 이진 검색: 일정한 규칙으로 늘어놓은 데이터 집합에서 아주 빠른 검색\n",
    "3. 해시법: 추가/삭제가 자주 일어나는 데이터 집합에서 아주 빠른 검색\n",
    "   * 체인법: 같은 해시값 데이터를 연결 리스트로 연결하는 방법\n",
    "   * 오픈 주소법: 데이터를 위한 해시값이 충돌할 때 재해시하는 방법"
   ]
  }
 ],
 "metadata": {
  "kernelspec": {
   "display_name": "tsa-py3.9",
   "language": "python",
   "name": "tsa"
  },
  "language_info": {
   "codemirror_mode": {
    "name": "ipython",
    "version": 3
   },
   "file_extension": ".py",
   "mimetype": "text/x-python",
   "name": "python",
   "nbconvert_exporter": "python",
   "pygments_lexer": "ipython3",
   "version": "3.9.0"
  }
 },
 "nbformat": 4,
 "nbformat_minor": 5
}
