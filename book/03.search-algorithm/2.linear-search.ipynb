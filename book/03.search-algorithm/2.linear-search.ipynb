{
 "cells": [
  {
   "cell_type": "markdown",
   "id": "07000010",
   "metadata": {},
   "source": [
    "# 선형 검색\n",
    "\n",
    "선형 검색은 배열에서 검색하는 방법 중 가장 기본적인 알고리즘. **선형 검색(linear search)**란 직선 모양으로 늘어선 배열에서 검색하는 경우에 원하는 키값을 가진 원소를 찾을 때까지 맨 앞부터 스캔하여 순서대로 검색하는 알고리즘."
   ]
  },
  {
   "cell_type": "markdown",
   "id": "66c9f0a2",
   "metadata": {},
   "source": [
    "[Do it! 실습 3-1] while 문으로 작성한 선형 검색 알고리즘"
   ]
  },
  {
   "cell_type": "code",
   "execution_count": 2,
   "id": "88316d25",
   "metadata": {
    "ExecuteTime": {
     "end_time": "2022-12-22T17:38:34.973678Z",
     "start_time": "2022-12-22T17:38:30.381177Z"
    }
   },
   "outputs": [
    {
     "name": "stdout",
     "output_type": "stream",
     "text": [
      "원소 수를 입력하세요.: 7\n",
      "x[0]: 6\n",
      "x[1]: 4\n",
      "x[2]: 3\n",
      "x[3]: 2\n",
      "x[4]: 1\n",
      "x[5]: 2\n",
      "x[6]: 8\n",
      "검색할 값을 입력하세요.: 2\n",
      "검색값은 x[3]에 있습니다.\n"
     ]
    }
   ],
   "source": [
    "from typing import Any, Sequence\n",
    "\n",
    "def seq_search(a: Sequence, key: Any) -> int:\n",
    "    '''시퀀스 a에서 key와 값이 같은 원소를 선형 검색(while 문)'''\n",
    "    i = 0\n",
    "    \n",
    "    while True:\n",
    "        if i == len(a):\n",
    "            return -1   # 검색에 실패하면 -1을 반환\n",
    "        if a[i] == key:\n",
    "            return i    # 검색에 성공하여 현재 검사한 배열의 인덱스 반환\n",
    "        else:\n",
    "            i += 1\n",
    "            \n",
    "if __name__ == '__main__':\n",
    "    num = int(input('원소 수를 입력하세요.: '))\n",
    "    x = [None] * num\n",
    "    \n",
    "    for i in range(num):\n",
    "        x[i] = int(input(f'x[{i}]: '))\n",
    "\n",
    "    ky = int(input('검색할 값을 입력하세요.: '))\n",
    "    \n",
    "    idx = seq_search(x, ky)\n",
    "    \n",
    "    if idx == -1:\n",
    "        print('검색값을 갖는 원소가 존재하지 않습니다.')\n",
    "    else:\n",
    "        print(f'검색값은 x[{idx}]에 있습니다.')"
   ]
  },
  {
   "cell_type": "code",
   "execution_count": null,
   "id": "8ac5937b",
   "metadata": {},
   "outputs": [],
   "source": []
  }
 ],
 "metadata": {
  "kernelspec": {
   "display_name": "tsa-py3.9",
   "language": "python",
   "name": "tsa"
  },
  "language_info": {
   "codemirror_mode": {
    "name": "ipython",
    "version": 3
   },
   "file_extension": ".py",
   "mimetype": "text/x-python",
   "name": "python",
   "nbconvert_exporter": "python",
   "pygments_lexer": "ipython3",
   "version": "3.9.0"
  }
 },
 "nbformat": 4,
 "nbformat_minor": 5
}
